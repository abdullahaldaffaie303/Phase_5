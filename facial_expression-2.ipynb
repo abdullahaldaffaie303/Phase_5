{
 "cells": [
  {
   "cell_type": "code",
   "execution_count": 1,
   "metadata": {
    "ExecuteTime": {
     "end_time": "2021-10-05T05:06:52.974729Z",
     "start_time": "2021-10-05T05:06:42.612850Z"
    }
   },
   "outputs": [],
   "source": [
    "import pandas as pd\n",
    "import numpy as np\n",
    "import matplotlib.pyplot as plt\n",
    "import keras\n",
    "import os\n",
    "from keras.preprocessing.image import ImageDataGenerator, array_to_img, img_to_array, load_img\n",
    "import random\n",
    "from sklearn.model_selection import train_test_split\n",
    "from keras import layers\n",
    "from keras.models import Sequential\n",
    "from keras.layers import Dense, Dropout, Flatten\n",
    "from keras.layers import Conv2D, MaxPooling2D\n",
    "from keras.preprocessing import image\n",
    "import talos\n",
    "\n",
    "np.random.seed(123)"
   ]
  },
  {
   "cell_type": "code",
   "execution_count": 2,
   "metadata": {
    "ExecuteTime": {
     "end_time": "2021-10-05T05:06:53.005846Z",
     "start_time": "2021-10-05T05:06:52.991629Z"
    }
   },
   "outputs": [],
   "source": [
    "data_dirc = '/Users/abdullahaldaffaie/Documents/Flatiron_Curriculum /Flatiron_Projects/Phase_5/facial_expression'\n",
    "train_folder='/Users/abdullahaldaffaie/Documents/Flatiron_Curriculum /Flatiron_Projects/Phase_5/facial_expression/train'\n",
    "test_folder= '/Users/abdullahaldaffaie/Documents/Flatiron_Curriculum /Flatiron_Projects/Phase_5/facial_expression/test'\n",
    "val_folder= '/Users/abdullahaldaffaie/Documents/Flatiron_Curriculum /Flatiron_Projects/Phase_5/facial_expression/val'"
   ]
  },
  {
   "cell_type": "code",
   "execution_count": 3,
   "metadata": {
    "ExecuteTime": {
     "end_time": "2021-10-04T21:07:28.556708Z",
     "start_time": "2021-10-04T21:07:28.554847Z"
    }
   },
   "outputs": [],
   "source": [
    "# Data description \n",
    "#Data divided into train(80%), test(10%), and validation(10%)\n",
    "#sets in ImageFolder format.\n",
    "#Labels are:\n",
    "#0 - Angry\n",
    "#1 - Disgust\n",
    "#2 - Fear\n",
    "#3 - Happy\n",
    "#4 - Sad\n",
    "#5 - Surprise\n",
    "#6 - Neutral"
   ]
  },
  {
   "cell_type": "code",
   "execution_count": 3,
   "metadata": {
    "ExecuteTime": {
     "end_time": "2021-10-03T17:22:16.884094Z",
     "start_time": "2021-10-03T17:22:16.876900Z"
    }
   },
   "outputs": [
    {
     "name": "stdout",
     "output_type": "stream",
     "text": [
      "['test', 'train', 'val']\n"
     ]
    }
   ],
   "source": [
    "print(os.listdir(data_dirc))"
   ]
  },
  {
   "cell_type": "code",
   "execution_count": 4,
   "metadata": {
    "ExecuteTime": {
     "end_time": "2021-10-03T17:22:16.916161Z",
     "start_time": "2021-10-03T17:22:16.908742Z"
    }
   },
   "outputs": [
    {
     "name": "stdout",
     "output_type": "stream",
     "text": [
      "['0', '6', '1', '4', '3', '2', '5']\n"
     ]
    }
   ],
   "source": [
    "classes = os.listdir(train_folder)\n",
    "print(classes)"
   ]
  },
  {
   "cell_type": "code",
   "execution_count": 3,
   "metadata": {
    "ExecuteTime": {
     "end_time": "2021-10-05T05:12:06.317163Z",
     "start_time": "2021-10-05T05:12:03.856986Z"
    }
   },
   "outputs": [
    {
     "name": "stdout",
     "output_type": "stream",
     "text": [
      "Found 28706 images belonging to 7 classes.\n",
      "Found 3589 images belonging to 7 classes.\n",
      "Found 28706 images belonging to 7 classes.\n"
     ]
    }
   ],
   "source": [
    "train_generator = ImageDataGenerator(rescale=1./255, \n",
    "                                     width_shift_range=0.1, \n",
    "                                     height_shift_range=0.1,\n",
    "                                     horizontal_flip=True).flow_from_directory(\n",
    "    train_folder,\n",
    "    target_size= (48,48),\n",
    "    batch_size= 28709,\n",
    "    class_mode= 'categorical')\n",
    "\n",
    "test_generator = ImageDataGenerator(rescale=1./255, \n",
    "                                    width_shift_range=0.1, \n",
    "                                    height_shift_range=0.1,\n",
    "                                    horizontal_flip=True).flow_from_directory(\n",
    "    test_folder,\n",
    "    target_size= (48,48),\n",
    "    batch_size= 3589,\n",
    "    class_mode= 'categorical')\n",
    "\n",
    "val_generator =ImageDataGenerator(rescale=1./255, \n",
    "                                  width_shift_range=0.1, \n",
    "                                  height_shift_range=0.1,\n",
    "                                  horizontal_flip=True).flow_from_directory(\n",
    "    train_folder,\n",
    "    target_size= (48,48),\n",
    "    batch_size= 28709,\n",
    "    class_mode='categorical' )"
   ]
  },
  {
   "cell_type": "code",
   "execution_count": 4,
   "metadata": {
    "ExecuteTime": {
     "end_time": "2021-10-05T05:14:49.627165Z",
     "start_time": "2021-10-05T05:12:13.137609Z"
    }
   },
   "outputs": [],
   "source": [
    "train_images, train_labels = next(train_generator)\n",
    "test_images, test_labels = next(test_generator)\n",
    "val_images, val_labels = next(val_generator)"
   ]
  },
  {
   "cell_type": "code",
   "execution_count": 21,
   "metadata": {
    "ExecuteTime": {
     "end_time": "2021-10-03T18:58:32.976378Z",
     "start_time": "2021-10-03T18:58:32.970985Z"
    }
   },
   "outputs": [
    {
     "name": "stdout",
     "output_type": "stream",
     "text": [
      "(28709, 48, 48, 3)\n",
      "(3589, 48, 48, 3)\n",
      "(28709, 48, 48, 3)\n",
      "(28709, 7)\n",
      "(3589, 7)\n",
      "(28709, 7)\n"
     ]
    }
   ],
   "source": [
    "print(train_images.shape)\n",
    "print(test_images.shape)\n",
    "print(val_images.shape)\n",
    "print(train_labels.shape)\n",
    "print(test_labels.shape)\n",
    "print(val_labels.shape)"
   ]
  },
  {
   "cell_type": "code",
   "execution_count": 23,
   "metadata": {
    "ExecuteTime": {
     "end_time": "2021-10-03T18:58:55.221914Z",
     "start_time": "2021-10-03T18:58:55.215772Z"
    }
   },
   "outputs": [
    {
     "data": {
      "text/plain": [
       "{'0': 0, '1': 1, '2': 2, '3': 3, '4': 4, '5': 5, '6': 6}"
      ]
     },
     "execution_count": 23,
     "metadata": {},
     "output_type": "execute_result"
    }
   ],
   "source": [
    "train_generator.class_indices"
   ]
  },
  {
   "cell_type": "code",
   "execution_count": 24,
   "metadata": {
    "ExecuteTime": {
     "end_time": "2021-10-03T18:58:55.882645Z",
     "start_time": "2021-10-03T18:58:55.698548Z"
    }
   },
   "outputs": [
    {
     "data": {
      "text/plain": [
       "<matplotlib.image.AxesImage at 0x7ffa8005c2b0>"
      ]
     },
     "metadata": {},
     "output_type": "display_data"
    },
    {
     "name": "stdout",
     "output_type": "stream",
     "text": [
      "Label: [0. 0. 1. 0. 0. 0. 0.]\n"
     ]
    },
    {
     "data": {
      "image/png": "[encoded data removed]",
      "text/plain": [
       "<Figure size 432x288 with 1 Axes>"
      ]
     },
     "metadata": {
      "needs_background": "light"
     },
     "output_type": "display_data"
    }
   ],
   "source": [
    "sample_image = train_images[0]\n",
    "sample_label = train_labels[0]\n",
    "display(plt.imshow(sample_image))\n",
    "print('Label: {}'.format(sample_label))"
   ]
  },
  {
   "cell_type": "code",
   "execution_count": 5,
   "metadata": {
    "ExecuteTime": {
     "end_time": "2021-10-05T05:16:20.938677Z",
     "start_time": "2021-10-05T05:16:20.447639Z"
    }
   },
   "outputs": [],
   "source": [
    "# Adding more layers helped imporve the VAL_ACC \n",
    "# define VGG5_block_Daugmentation cnn model\n",
    "model = Sequential()\n",
    "model.add(Conv2D(32, (3, 3), activation='relu', kernel_initializer='he_uniform', padding='same', input_shape=(48, 48, 3)))\n",
    "model.add(Conv2D(32, (3, 3), activation='relu', kernel_initializer='he_uniform', padding='same'))\n",
    "model.add(MaxPooling2D((2, 2)))\n",
    "model.add(Conv2D(64, (3, 3), activation='relu', kernel_initializer='he_uniform', padding='same'))\n",
    "model.add(Conv2D(64, (3, 3), activation='relu', kernel_initializer='he_uniform', padding='same'))\n",
    "model.add(MaxPooling2D((2, 2)))\n",
    "model.add(Conv2D(128, (3, 3), activation='relu', kernel_initializer='he_uniform', padding='same'))\n",
    "model.add(Conv2D(128, (3, 3), activation='relu', kernel_initializer='he_uniform', padding='same'))\n",
    "model.add(MaxPooling2D((2, 2)))\n",
    "model.add(Conv2D(256, (3, 3), activation='relu', kernel_initializer='he_uniform', padding='same'))\n",
    "model.add(Conv2D(256, (3, 3), activation='relu', kernel_initializer='he_uniform', padding='same'))\n",
    "model.add(MaxPooling2D((2, 2)))\n",
    "model.add(Conv2D(512, (3, 3), activation='relu', kernel_initializer='he_uniform', padding='same'))\n",
    "model.add(Conv2D(512, (3, 3), activation='relu', kernel_initializer='he_uniform', padding='same'))\n",
    "model.add(MaxPooling2D((2, 2)))\n",
    "model.add(Flatten())\n",
    "model.add(Dense(128, activation='relu', kernel_initializer='he_uniform'))\n",
    "model.add(Dense(7, activation='softmax'))\n",
    "# compile model\n",
    "model.compile(optimizer= 'SGD', loss='categorical_crossentropy', metrics=['accuracy'])"
   ]
  },
  {
   "cell_type": "code",
   "execution_count": 6,
   "metadata": {
    "ExecuteTime": {
     "end_time": "2021-10-05T12:14:46.683618Z",
     "start_time": "2021-10-05T05:16:31.732153Z"
    }
   },
   "outputs": [
    {
     "name": "stdout",
     "output_type": "stream",
     "text": [
      "Epoch 1/100\n",
      "449/449 [==============================] - 429s 955ms/step - loss: 1.8007 - accuracy: 0.2564 - val_loss: 1.7652 - val_accuracy: 0.2817\n",
      "Epoch 2/100\n",
      "449/449 [==============================] - 415s 924ms/step - loss: 1.7235 - accuracy: 0.3059 - val_loss: 1.6938 - val_accuracy: 0.3218\n",
      "Epoch 3/100\n",
      "449/449 [==============================] - 423s 942ms/step - loss: 1.6520 - accuracy: 0.3511 - val_loss: 1.6800 - val_accuracy: 0.3444\n",
      "Epoch 4/100\n",
      "449/449 [==============================] - 446s 994ms/step - loss: 1.5822 - accuracy: 0.3873 - val_loss: 1.6416 - val_accuracy: 0.3433\n",
      "Epoch 5/100\n",
      "449/449 [==============================] - 297s 663ms/step - loss: 1.5210 - accuracy: 0.4129 - val_loss: 1.5225 - val_accuracy: 0.4140\n",
      "Epoch 6/100\n",
      "449/449 [==============================] - 264s 587ms/step - loss: 1.4697 - accuracy: 0.4386 - val_loss: 1.5298 - val_accuracy: 0.3998\n",
      "Epoch 7/100\n",
      "449/449 [==============================] - 244s 544ms/step - loss: 1.4166 - accuracy: 0.4579 - val_loss: 1.5835 - val_accuracy: 0.4023\n",
      "Epoch 8/100\n",
      "449/449 [==============================] - 259s 577ms/step - loss: 1.3659 - accuracy: 0.4801 - val_loss: 1.4464 - val_accuracy: 0.4430\n",
      "Epoch 9/100\n",
      "449/449 [==============================] - 255s 568ms/step - loss: 1.3121 - accuracy: 0.5064 - val_loss: 1.5077 - val_accuracy: 0.4277\n",
      "Epoch 10/100\n",
      "449/449 [==============================] - 264s 587ms/step - loss: 1.2565 - accuracy: 0.5233 - val_loss: 1.4583 - val_accuracy: 0.4249\n",
      "Epoch 11/100\n",
      "449/449 [==============================] - 268s 598ms/step - loss: 1.2056 - accuracy: 0.5458 - val_loss: 1.4371 - val_accuracy: 0.4486\n",
      "Epoch 12/100\n",
      "449/449 [==============================] - 259s 576ms/step - loss: 1.1321 - accuracy: 0.5778 - val_loss: 1.4132 - val_accuracy: 0.4525\n",
      "Epoch 13/100\n",
      "449/449 [==============================] - 256s 571ms/step - loss: 1.0650 - accuracy: 0.6039 - val_loss: 1.4890 - val_accuracy: 0.4452\n",
      "Epoch 14/100\n",
      "449/449 [==============================] - 275s 612ms/step - loss: 0.9948 - accuracy: 0.6310 - val_loss: 1.4656 - val_accuracy: 0.4670\n",
      "Epoch 15/100\n",
      "449/449 [==============================] - 267s 594ms/step - loss: 0.9149 - accuracy: 0.6623 - val_loss: 1.6318 - val_accuracy: 0.4071\n",
      "Epoch 16/100\n",
      "449/449 [==============================] - 263s 586ms/step - loss: 0.8311 - accuracy: 0.6951 - val_loss: 1.6003 - val_accuracy: 0.4464\n",
      "Epoch 17/100\n",
      "449/449 [==============================] - 263s 586ms/step - loss: 0.7430 - accuracy: 0.7274 - val_loss: 1.7075 - val_accuracy: 0.4561\n",
      "Epoch 18/100\n",
      "449/449 [==============================] - 262s 584ms/step - loss: 0.6584 - accuracy: 0.7632 - val_loss: 1.8493 - val_accuracy: 0.4489\n",
      "Epoch 19/100\n",
      "449/449 [==============================] - 262s 584ms/step - loss: 0.5567 - accuracy: 0.7988 - val_loss: 2.2782 - val_accuracy: 0.4458\n",
      "Epoch 20/100\n",
      "449/449 [==============================] - 265s 591ms/step - loss: 0.4771 - accuracy: 0.8300 - val_loss: 2.1953 - val_accuracy: 0.4319\n",
      "Epoch 21/100\n",
      "449/449 [==============================] - 258s 574ms/step - loss: 0.3993 - accuracy: 0.8595 - val_loss: 2.4791 - val_accuracy: 0.4238\n",
      "Epoch 22/100\n",
      "449/449 [==============================] - 255s 569ms/step - loss: 0.3343 - accuracy: 0.8846 - val_loss: 2.4824 - val_accuracy: 0.4302\n",
      "Epoch 23/100\n",
      "449/449 [==============================] - 272s 605ms/step - loss: 0.2902 - accuracy: 0.9031 - val_loss: 2.4411 - val_accuracy: 0.4675\n",
      "Epoch 24/100\n",
      "449/449 [==============================] - 257s 573ms/step - loss: 0.2340 - accuracy: 0.9235 - val_loss: 2.6601 - val_accuracy: 0.4550\n",
      "Epoch 25/100\n",
      "449/449 [==============================] - 253s 563ms/step - loss: 0.1960 - accuracy: 0.9354 - val_loss: 3.1158 - val_accuracy: 0.4664\n",
      "Epoch 26/100\n",
      "449/449 [==============================] - 245s 545ms/step - loss: 0.1826 - accuracy: 0.9420 - val_loss: 2.6569 - val_accuracy: 0.4636\n",
      "Epoch 27/100\n",
      "449/449 [==============================] - 241s 536ms/step - loss: 0.1670 - accuracy: 0.9471 - val_loss: 2.9077 - val_accuracy: 0.4517\n",
      "Epoch 28/100\n",
      "449/449 [==============================] - 239s 533ms/step - loss: 0.1124 - accuracy: 0.9640 - val_loss: 3.5039 - val_accuracy: 0.4374\n",
      "Epoch 29/100\n",
      "449/449 [==============================] - 238s 531ms/step - loss: 0.1189 - accuracy: 0.9650 - val_loss: 3.0548 - val_accuracy: 0.4645\n",
      "Epoch 30/100\n",
      "449/449 [==============================] - 239s 532ms/step - loss: 0.1051 - accuracy: 0.9668 - val_loss: 3.3527 - val_accuracy: 0.4561\n",
      "Epoch 31/100\n",
      "449/449 [==============================] - 238s 530ms/step - loss: 0.1017 - accuracy: 0.9679 - val_loss: 3.5593 - val_accuracy: 0.4667\n",
      "Epoch 32/100\n",
      "449/449 [==============================] - 237s 528ms/step - loss: 0.0877 - accuracy: 0.9739 - val_loss: 4.1104 - val_accuracy: 0.4394\n",
      "Epoch 33/100\n",
      "449/449 [==============================] - 238s 529ms/step - loss: 0.0830 - accuracy: 0.9776 - val_loss: 3.1307 - val_accuracy: 0.4717\n",
      "Epoch 34/100\n",
      "449/449 [==============================] - 238s 531ms/step - loss: 0.0458 - accuracy: 0.9860 - val_loss: 3.9122 - val_accuracy: 0.4600\n",
      "Epoch 35/100\n",
      "449/449 [==============================] - 237s 528ms/step - loss: 0.0886 - accuracy: 0.9734 - val_loss: 2.4976 - val_accuracy: 0.4202\n",
      "Epoch 36/100\n",
      "449/449 [==============================] - 237s 527ms/step - loss: 0.0508 - accuracy: 0.9842 - val_loss: 3.5459 - val_accuracy: 0.4441\n",
      "Epoch 37/100\n",
      "449/449 [==============================] - 237s 527ms/step - loss: 0.0531 - accuracy: 0.9821 - val_loss: 4.0304 - val_accuracy: 0.4692\n",
      "Epoch 38/100\n",
      "449/449 [==============================] - 237s 527ms/step - loss: 0.0709 - accuracy: 0.9765 - val_loss: 3.5744 - val_accuracy: 0.4684\n",
      "Epoch 39/100\n",
      "449/449 [==============================] - 237s 527ms/step - loss: 0.0663 - accuracy: 0.9786 - val_loss: 3.8024 - val_accuracy: 0.4514\n",
      "Epoch 40/100\n",
      "449/449 [==============================] - 237s 528ms/step - loss: 0.0540 - accuracy: 0.9817 - val_loss: 3.8414 - val_accuracy: 0.4714\n",
      "Epoch 41/100\n",
      "449/449 [==============================] - 238s 529ms/step - loss: 0.0529 - accuracy: 0.9833 - val_loss: 4.0262 - val_accuracy: 0.4684\n",
      "Epoch 42/100\n",
      "449/449 [==============================] - 238s 530ms/step - loss: 0.0291 - accuracy: 0.9907 - val_loss: 4.8684 - val_accuracy: 0.4475\n",
      "Epoch 43/100\n",
      "449/449 [==============================] - 237s 528ms/step - loss: 0.0442 - accuracy: 0.9860 - val_loss: 4.2161 - val_accuracy: 0.4673\n",
      "Epoch 44/100\n",
      "449/449 [==============================] - 237s 529ms/step - loss: 0.0337 - accuracy: 0.9892 - val_loss: 3.7673 - val_accuracy: 0.4542\n",
      "Epoch 45/100\n",
      "449/449 [==============================] - 237s 528ms/step - loss: 0.0411 - accuracy: 0.9867 - val_loss: 4.4075 - val_accuracy: 0.4659\n",
      "Epoch 46/100\n",
      "449/449 [==============================] - 238s 529ms/step - loss: 0.0261 - accuracy: 0.9916 - val_loss: 4.4444 - val_accuracy: 0.4792\n",
      "Epoch 47/100\n",
      "449/449 [==============================] - 237s 528ms/step - loss: 0.0530 - accuracy: 0.9837 - val_loss: 3.9094 - val_accuracy: 0.4634\n",
      "Epoch 48/100\n",
      "449/449 [==============================] - 237s 528ms/step - loss: 0.0218 - accuracy: 0.9932 - val_loss: 4.1741 - val_accuracy: 0.4611\n",
      "Epoch 49/100\n",
      "449/449 [==============================] - 237s 528ms/step - loss: 0.0398 - accuracy: 0.9871 - val_loss: 3.9171 - val_accuracy: 0.4753\n",
      "Epoch 50/100\n",
      "449/449 [==============================] - 237s 528ms/step - loss: 0.0264 - accuracy: 0.9916 - val_loss: 4.1813 - val_accuracy: 0.4778\n",
      "Epoch 51/100\n",
      "449/449 [==============================] - 237s 528ms/step - loss: 0.0129 - accuracy: 0.9964 - val_loss: 4.4306 - val_accuracy: 0.4790\n",
      "Epoch 52/100\n",
      "449/449 [==============================] - 237s 528ms/step - loss: 0.0034 - accuracy: 0.9993 - val_loss: 4.9338 - val_accuracy: 0.4787\n",
      "Epoch 53/100\n",
      "449/449 [==============================] - 237s 528ms/step - loss: 8.3400e-04 - accuracy: 0.9999 - val_loss: 5.0629 - val_accuracy: 0.4781\n",
      "Epoch 54/100\n",
      "449/449 [==============================] - 237s 529ms/step - loss: 5.9414e-04 - accuracy: 0.9999 - val_loss: 5.1399 - val_accuracy: 0.4817\n",
      "Epoch 55/100\n",
      "449/449 [==============================] - 237s 528ms/step - loss: 5.6014e-04 - accuracy: 0.9999 - val_loss: 5.1997 - val_accuracy: 0.4801\n",
      "Epoch 56/100\n",
      "449/449 [==============================] - 237s 528ms/step - loss: 5.4712e-04 - accuracy: 0.9999 - val_loss: 5.2493 - val_accuracy: 0.4801\n",
      "Epoch 57/100\n",
      "449/449 [==============================] - 237s 528ms/step - loss: 5.3437e-04 - accuracy: 0.9999 - val_loss: 5.2933 - val_accuracy: 0.4809\n",
      "Epoch 58/100\n",
      "449/449 [==============================] - 237s 527ms/step - loss: 5.2627e-04 - accuracy: 0.9999 - val_loss: 5.3389 - val_accuracy: 0.4812\n",
      "Epoch 59/100\n",
      "449/449 [==============================] - 237s 527ms/step - loss: 5.2066e-04 - accuracy: 0.9999 - val_loss: 5.3770 - val_accuracy: 0.4809\n",
      "Epoch 60/100\n",
      "449/449 [==============================] - 237s 527ms/step - loss: 5.1801e-04 - accuracy: 0.9999 - val_loss: 5.4089 - val_accuracy: 0.4817\n",
      "Epoch 61/100\n",
      "449/449 [==============================] - 238s 529ms/step - loss: 5.1324e-04 - accuracy: 0.9999 - val_loss: 5.4388 - val_accuracy: 0.4812\n",
      "Epoch 62/100\n",
      "449/449 [==============================] - 237s 527ms/step - loss: 5.0966e-04 - accuracy: 0.9999 - val_loss: 5.4681 - val_accuracy: 0.4815\n",
      "Epoch 63/100\n",
      "449/449 [==============================] - 237s 527ms/step - loss: 5.0636e-04 - accuracy: 0.9999 - val_loss: 5.4993 - val_accuracy: 0.4817\n",
      "Epoch 64/100\n",
      "449/449 [==============================] - 237s 528ms/step - loss: 5.0536e-04 - accuracy: 0.9999 - val_loss: 5.5205 - val_accuracy: 0.4831\n",
      "Epoch 65/100\n",
      "449/449 [==============================] - 237s 528ms/step - loss: 5.0271e-04 - accuracy: 0.9999 - val_loss: 5.5449 - val_accuracy: 0.4826\n",
      "Epoch 66/100\n",
      "449/449 [==============================] - 237s 527ms/step - loss: 4.9908e-04 - accuracy: 0.9999 - val_loss: 5.5680 - val_accuracy: 0.4829\n",
      "Epoch 67/100\n",
      "449/449 [==============================] - 237s 527ms/step - loss: 4.9724e-04 - accuracy: 0.9999 - val_loss: 5.5921 - val_accuracy: 0.4829\n",
      "Epoch 68/100\n",
      "449/449 [==============================] - 237s 527ms/step - loss: 4.9709e-04 - accuracy: 0.9999 - val_loss: 5.6094 - val_accuracy: 0.4826\n",
      "Epoch 69/100\n",
      "449/449 [==============================] - 237s 528ms/step - loss: 4.9740e-04 - accuracy: 0.9999 - val_loss: 5.6287 - val_accuracy: 0.4820\n",
      "Epoch 70/100\n",
      "449/449 [==============================] - 237s 528ms/step - loss: 4.9470e-04 - accuracy: 0.9999 - val_loss: 5.6476 - val_accuracy: 0.4834\n",
      "Epoch 71/100\n",
      "449/449 [==============================] - 237s 527ms/step - loss: 4.9344e-04 - accuracy: 0.9999 - val_loss: 5.6659 - val_accuracy: 0.4829\n",
      "Epoch 72/100\n",
      "449/449 [==============================] - 237s 527ms/step - loss: 4.8990e-04 - accuracy: 0.9999 - val_loss: 5.6867 - val_accuracy: 0.4845\n",
      "Epoch 73/100\n",
      "449/449 [==============================] - 237s 527ms/step - loss: 4.9197e-04 - accuracy: 0.9999 - val_loss: 5.7014 - val_accuracy: 0.4837\n",
      "Epoch 74/100\n",
      "449/449 [==============================] - 237s 527ms/step - loss: 4.9064e-04 - accuracy: 0.9999 - val_loss: 5.7141 - val_accuracy: 0.4837\n",
      "Epoch 75/100\n",
      "449/449 [==============================] - 237s 528ms/step - loss: 4.8984e-04 - accuracy: 0.9999 - val_loss: 5.7318 - val_accuracy: 0.4834\n",
      "Epoch 76/100\n",
      "449/449 [==============================] - 237s 528ms/step - loss: 4.8832e-04 - accuracy: 0.9999 - val_loss: 5.7448 - val_accuracy: 0.4829\n",
      "Epoch 77/100\n",
      "449/449 [==============================] - 239s 532ms/step - loss: 4.8830e-04 - accuracy: 0.9999 - val_loss: 5.7588 - val_accuracy: 0.4831\n",
      "Epoch 78/100\n",
      "449/449 [==============================] - 243s 541ms/step - loss: 4.8726e-04 - accuracy: 0.9999 - val_loss: 5.7745 - val_accuracy: 0.4837\n",
      "Epoch 79/100\n",
      "449/449 [==============================] - 238s 529ms/step - loss: 4.8361e-04 - accuracy: 0.9999 - val_loss: 5.7837 - val_accuracy: 0.4831\n",
      "Epoch 80/100\n",
      "449/449 [==============================] - 237s 528ms/step - loss: 4.8583e-04 - accuracy: 0.9999 - val_loss: 5.7962 - val_accuracy: 0.4834\n",
      "Epoch 81/100\n",
      "449/449 [==============================] - 237s 528ms/step - loss: 4.8491e-04 - accuracy: 0.9999 - val_loss: 5.8083 - val_accuracy: 0.4837\n",
      "Epoch 82/100\n",
      "449/449 [==============================] - 237s 528ms/step - loss: 4.8479e-04 - accuracy: 0.9999 - val_loss: 5.8232 - val_accuracy: 0.4843\n",
      "Epoch 83/100\n",
      "449/449 [==============================] - 237s 528ms/step - loss: 4.8346e-04 - accuracy: 0.9999 - val_loss: 5.8309 - val_accuracy: 0.4834\n",
      "Epoch 84/100\n",
      "449/449 [==============================] - 237s 528ms/step - loss: 4.8204e-04 - accuracy: 0.9999 - val_loss: 5.8447 - val_accuracy: 0.4840\n",
      "Epoch 85/100\n",
      "449/449 [==============================] - 237s 529ms/step - loss: 4.8361e-04 - accuracy: 0.9999 - val_loss: 5.8566 - val_accuracy: 0.4843\n",
      "Epoch 86/100\n",
      "449/449 [==============================] - 237s 527ms/step - loss: 4.8268e-04 - accuracy: 0.9999 - val_loss: 5.8698 - val_accuracy: 0.4840\n",
      "Epoch 87/100\n",
      "449/449 [==============================] - 237s 527ms/step - loss: 4.8301e-04 - accuracy: 0.9999 - val_loss: 5.8809 - val_accuracy: 0.4840\n",
      "Epoch 88/100\n",
      "449/449 [==============================] - 237s 528ms/step - loss: 4.8213e-04 - accuracy: 0.9999 - val_loss: 5.8922 - val_accuracy: 0.4840\n",
      "Epoch 89/100\n",
      "449/449 [==============================] - 237s 528ms/step - loss: 4.8142e-04 - accuracy: 0.9999 - val_loss: 5.8992 - val_accuracy: 0.4837\n",
      "Epoch 90/100\n",
      "449/449 [==============================] - 237s 527ms/step - loss: 4.7996e-04 - accuracy: 0.9999 - val_loss: 5.9113 - val_accuracy: 0.4840\n",
      "Epoch 91/100\n",
      "449/449 [==============================] - 237s 528ms/step - loss: 4.8097e-04 - accuracy: 0.9999 - val_loss: 5.9194 - val_accuracy: 0.4843\n",
      "Epoch 92/100\n",
      "449/449 [==============================] - 237s 528ms/step - loss: 4.8030e-04 - accuracy: 0.9999 - val_loss: 5.9289 - val_accuracy: 0.4837\n",
      "Epoch 93/100\n",
      "449/449 [==============================] - 237s 528ms/step - loss: 4.8017e-04 - accuracy: 0.9999 - val_loss: 5.9386 - val_accuracy: 0.4843\n",
      "Epoch 94/100\n",
      "449/449 [==============================] - 237s 528ms/step - loss: 4.7924e-04 - accuracy: 0.9999 - val_loss: 5.9487 - val_accuracy: 0.4837\n",
      "Epoch 95/100\n",
      "449/449 [==============================] - 237s 527ms/step - loss: 4.7952e-04 - accuracy: 0.9999 - val_loss: 5.9563 - val_accuracy: 0.4837\n",
      "Epoch 96/100\n",
      "449/449 [==============================] - 237s 529ms/step - loss: 4.7824e-04 - accuracy: 0.9999 - val_loss: 5.9683 - val_accuracy: 0.4834\n",
      "Epoch 97/100\n",
      "449/449 [==============================] - 237s 527ms/step - loss: 4.7698e-04 - accuracy: 0.9999 - val_loss: 5.9739 - val_accuracy: 0.4837\n",
      "Epoch 98/100\n",
      "449/449 [==============================] - 237s 528ms/step - loss: 4.7856e-04 - accuracy: 0.9999 - val_loss: 5.9825 - val_accuracy: 0.4834\n",
      "Epoch 99/100\n",
      "449/449 [==============================] - 237s 529ms/step - loss: 4.7777e-04 - accuracy: 0.9999 - val_loss: 5.9905 - val_accuracy: 0.4837\n",
      "Epoch 100/100\n",
      "449/449 [==============================] - 237s 529ms/step - loss: 4.7686e-04 - accuracy: 0.9999 - val_loss: 6.0016 - val_accuracy: 0.4837\n"
     ]
    }
   ],
   "source": [
    "history_vgg5 = model.fit(train_images, train_labels, epochs=100, batch_size=64,\n",
    "                    validation_data=(test_images, test_labels), verbose=1)\n"
   ]
  },
  {
   "cell_type": "code",
   "execution_count": 7,
   "metadata": {
    "ExecuteTime": {
     "end_time": "2021-10-05T13:38:19.169114Z",
     "start_time": "2021-10-05T13:38:18.640567Z"
    }
   },
   "outputs": [
    {
     "data": {
      "image/png": "[encoded data removed]",
      "text/plain": [
       "<Figure size 432x288 with 1 Axes>"
      ]
     },
     "metadata": {
      "needs_background": "light"
     },
     "output_type": "display_data"
    },
    {
     "data": {
      "image/png": "[encoded data removed]",
      "text/plain": [
       "<Figure size 432x288 with 1 Axes>"
      ]
     },
     "metadata": {
      "needs_background": "light"
     },
     "output_type": "display_data"
    }
   ],
   "source": [
    "acc = history_vgg5.history['accuracy']\n",
    "val_acc = history_vgg5.history['val_accuracy']\n",
    "loss = history_vgg5.history['loss']\n",
    "val_loss = history_vgg5.history['val_loss']\n",
    "epochs = range(len(acc))\n",
    "plt.plot(epochs, acc, 'bo', label='Training acc')\n",
    "plt.plot(epochs, val_acc, 'b', label='Validation acc')\n",
    "plt.title('Training and validation accuracy')\n",
    "plt.legend()\n",
    "plt.figure()\n",
    "plt.plot(epochs, loss, 'bo', label='Training loss')\n",
    "plt.plot(epochs, val_loss, 'b', label='Validation loss')\n",
    "plt.title('Training and validation loss')\n",
    "plt.legend()\n",
    "plt.show()"
   ]
  },
  {
   "cell_type": "code",
   "execution_count": null,
   "metadata": {},
   "outputs": [],
   "source": []
  }
 ],
 "metadata": {
  "kernelspec": {
   "display_name": "learn-env",
   "language": "python",
   "name": "learn-env"
  },
  "language_info": {
   "codemirror_mode": {
    "name": "ipython",
    "version": 3
   },
   "file_extension": ".py",
   "mimetype": "text/x-python",
   "name": "python",
   "nbconvert_exporter": "python",
   "pygments_lexer": "ipython3",
   "version": "3.8.5"
  },
  "toc": {
   "base_numbering": 1,
   "nav_menu": {},
   "number_sections": true,
   "sideBar": true,
   "skip_h1_title": false,
   "title_cell": "Table of Contents",
   "title_sidebar": "Contents",
   "toc_cell": false,
   "toc_position": {},
   "toc_section_display": true,
   "toc_window_display": false
  },
  "varInspector": {
   "cols": {
    "lenName": 16,
    "lenType": 16,
    "lenVar": 40
   },
   "kernels_config": {
    "python": {
     "delete_cmd_postfix": "",
     "delete_cmd_prefix": "del ",
     "library": "var_list.py",
     "varRefreshCmd": "print(var_dic_list())"
    },
    "r": {
     "delete_cmd_postfix": ") ",
     "delete_cmd_prefix": "rm(",
     "library": "var_list.r",
     "varRefreshCmd": "cat(var_dic_list()) "
    }
   },
   "types_to_exclude": [
    "module",
    "function",
    "builtin_function_or_method",
    "instance",
    "_Feature"
   ],
   "window_display": false
  }
 },
 "nbformat": 4,
 "nbformat_minor": 4
}
