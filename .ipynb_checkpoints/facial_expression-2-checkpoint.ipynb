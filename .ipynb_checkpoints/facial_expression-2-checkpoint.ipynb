{
 "cells": [
  {
   "cell_type": "code",
   "execution_count": 33,
   "metadata": {
    "ExecuteTime": {
     "end_time": "2021-10-03T19:22:26.710892Z",
     "start_time": "2021-10-03T19:22:26.702301Z"
    }
   },
   "outputs": [],
   "source": [
    "import pandas as pd\n",
    "import numpy as np\n",
    "import matplotlib.pyplot as plt\n",
    "import keras\n",
    "import os\n",
    "from keras.preprocessing.image import ImageDataGenerator, array_to_img, img_to_array, load_img\n",
    "import random\n",
    "from sklearn.model_selection import train_test_split\n",
    "from keras import layers\n",
    "from keras.models import Sequential\n",
    "from keras.layers import Dense, Dropout, Flatten\n",
    "from keras.layers import Conv2D, MaxPooling2D\n",
    "from keras.preprocessing import image\n",
    "import talos\n",
    "\n",
    "np.random.seed(123)"
   ]
  },
  {
   "cell_type": "code",
   "execution_count": 2,
   "metadata": {
    "ExecuteTime": {
     "end_time": "2021-10-03T17:22:16.858419Z",
     "start_time": "2021-10-03T17:22:16.853694Z"
    }
   },
   "outputs": [],
   "source": [
    "data_dirc = '/Users/abdullahaldaffaie/Documents/Flatiron_Curriculum /Flatiron_Projects/Phase_5/facial_expression'\n",
    "train_folder='/Users/abdullahaldaffaie/Documents/Flatiron_Curriculum /Flatiron_Projects/Phase_5/facial_expression/train'\n",
    "test_folder= '/Users/abdullahaldaffaie/Documents/Flatiron_Curriculum /Flatiron_Projects/Phase_5/facial_expression/test'\n",
    "val_folder= '/Users/abdullahaldaffaie/Documents/Flatiron_Curriculum /Flatiron_Projects/Phase_5/facial_expression/val'"
   ]
  },
  {
   "cell_type": "code",
   "execution_count": null,
   "metadata": {},
   "outputs": [],
   "source": [
    "# Data description \n",
    "#Data divided into train(80%), test(10%), and validation(10%)\n",
    "#sets in ImageFolder format.\n",
    "#Labels are:\n",
    "#0 - Angry\n",
    "#1 - Disgust\n",
    "#2 - Fear\n",
    "#3 - Happy\n",
    "#4 - Sad\n",
    "#5 - Surprise\n",
    "#6 - Neutral"
   ]
  },
  {
   "cell_type": "code",
   "execution_count": 3,
   "metadata": {
    "ExecuteTime": {
     "end_time": "2021-10-03T17:22:16.884094Z",
     "start_time": "2021-10-03T17:22:16.876900Z"
    }
   },
   "outputs": [
    {
     "name": "stdout",
     "output_type": "stream",
     "text": [
      "['test', 'train', 'val']\n"
     ]
    }
   ],
   "source": [
    "print(os.listdir(data_dirc))"
   ]
  },
  {
   "cell_type": "code",
   "execution_count": 4,
   "metadata": {
    "ExecuteTime": {
     "end_time": "2021-10-03T17:22:16.916161Z",
     "start_time": "2021-10-03T17:22:16.908742Z"
    }
   },
   "outputs": [
    {
     "name": "stdout",
     "output_type": "stream",
     "text": [
      "['0', '6', '1', '4', '3', '2', '5']\n"
     ]
    }
   ],
   "source": [
    "classes = os.listdir(train_folder)\n",
    "print(classes)"
   ]
  },
  {
   "cell_type": "code",
   "execution_count": 19,
   "metadata": {
    "ExecuteTime": {
     "end_time": "2021-10-03T18:57:17.917104Z",
     "start_time": "2021-10-03T18:57:16.659724Z"
    }
   },
   "outputs": [
    {
     "name": "stdout",
     "output_type": "stream",
     "text": [
      "Found 28709 images belonging to 7 classes.\n",
      "Found 3589 images belonging to 7 classes.\n",
      "Found 28709 images belonging to 7 classes.\n"
     ]
    }
   ],
   "source": [
    "train_generator = ImageDataGenerator(rescale=1./255).flow_from_directory(\n",
    "    train_folder,\n",
    "    target_size= (48,48),\n",
    "    batch_size= 28709,\n",
    "    class_mode= 'categorical')\n",
    "\n",
    "test_generator = ImageDataGenerator(rescale=1./255).flow_from_directory(\n",
    "    test_folder,\n",
    "    target_size= (48,48),\n",
    "    batch_size= 3589,\n",
    "    class_mode= 'categorical')\n",
    "\n",
    "val_generator =ImageDataGenerator(rescale=1./255).flow_from_directory(\n",
    "    train_folder,\n",
    "    target_size= (48,48),\n",
    "    batch_size= 28709,\n",
    "    class_mode='categorical' )"
   ]
  },
  {
   "cell_type": "code",
   "execution_count": 20,
   "metadata": {
    "ExecuteTime": {
     "end_time": "2021-10-03T18:57:53.739598Z",
     "start_time": "2021-10-03T18:57:20.197600Z"
    }
   },
   "outputs": [],
   "source": [
    "train_images, train_labels = next(train_generator)\n",
    "test_images, test_labels = next(test_generator)\n",
    "val_images, val_labels = next(val_generator)"
   ]
  },
  {
   "cell_type": "code",
   "execution_count": 21,
   "metadata": {
    "ExecuteTime": {
     "end_time": "2021-10-03T18:58:32.976378Z",
     "start_time": "2021-10-03T18:58:32.970985Z"
    }
   },
   "outputs": [
    {
     "name": "stdout",
     "output_type": "stream",
     "text": [
      "(28709, 48, 48, 3)\n",
      "(3589, 48, 48, 3)\n",
      "(28709, 48, 48, 3)\n",
      "(28709, 7)\n",
      "(3589, 7)\n",
      "(28709, 7)\n"
     ]
    }
   ],
   "source": [
    "print(train_images.shape)\n",
    "print(test_images.shape)\n",
    "print(val_images.shape)\n",
    "print(train_labels.shape)\n",
    "print(test_labels.shape)\n",
    "print(val_labels.shape)"
   ]
  },
  {
   "cell_type": "code",
   "execution_count": 23,
   "metadata": {
    "ExecuteTime": {
     "end_time": "2021-10-03T18:58:55.221914Z",
     "start_time": "2021-10-03T18:58:55.215772Z"
    }
   },
   "outputs": [
    {
     "data": {
      "text/plain": [
       "{'0': 0, '1': 1, '2': 2, '3': 3, '4': 4, '5': 5, '6': 6}"
      ]
     },
     "execution_count": 23,
     "metadata": {},
     "output_type": "execute_result"
    }
   ],
   "source": [
    "train_generator.class_indices"
   ]
  },
  {
   "cell_type": "code",
   "execution_count": 24,
   "metadata": {
    "ExecuteTime": {
     "end_time": "2021-10-03T18:58:55.882645Z",
     "start_time": "2021-10-03T18:58:55.698548Z"
    }
   },
   "outputs": [
    {
     "data": {
      "text/plain": [
       "<matplotlib.image.AxesImage at 0x7ffa8005c2b0>"
      ]
     },
     "metadata": {},
     "output_type": "display_data"
    },
    {
     "name": "stdout",
     "output_type": "stream",
     "text": [
      "Label: [0. 0. 1. 0. 0. 0. 0.]\n"
     ]
    },
    {
     "data": {
      "image/png": "[encoded data removed]",
      "text/plain": [
       "<Figure size 432x288 with 1 Axes>"
      ]
     },
     "metadata": {
      "needs_background": "light"
     },
     "output_type": "display_data"
    }
   ],
   "source": [
    "sample_image = train_images[0]\n",
    "sample_label = train_labels[0]\n",
    "display(plt.imshow(sample_image))\n",
    "print('Label: {}'.format(sample_label))"
   ]
  },
  {
   "cell_type": "code",
   "execution_count": 38,
   "metadata": {
    "ExecuteTime": {
     "end_time": "2021-10-03T19:33:11.533830Z",
     "start_time": "2021-10-03T19:33:11.446613Z"
    }
   },
   "outputs": [],
   "source": [
    "# define VGG1_block cnn model\n",
    "model = Sequential()\n",
    "model.add(Conv2D(32, (3, 3), activation='relu', kernel_initializer='he_uniform', padding='same', input_shape=(48, 48, 3)))\n",
    "model.add(Conv2D(32, (3, 3), activation='relu', kernel_initializer='he_uniform', padding='same'))\n",
    "model.add(MaxPooling2D((2, 2)))\n",
    "model.add(Flatten())\n",
    "model.add(Dense(128, activation='relu', kernel_initializer='he_uniform'))\n",
    "model.add(Dense(7, activation='softmax'))\n",
    "# compile model\n",
    "model.compile(optimizer= 'SGD', loss='categorical_crossentropy', metrics=['accuracy'])"
   ]
  },
  {
   "cell_type": "code",
   "execution_count": 39,
   "metadata": {
    "ExecuteTime": {
     "end_time": "2021-10-03T20:58:31.419680Z",
     "start_time": "2021-10-03T19:33:12.542768Z"
    }
   },
   "outputs": [
    {
     "name": "stdout",
     "output_type": "stream",
     "text": [
      "Epoch 1/100\n",
      "449/449 [==============================] - 50s 111ms/step - loss: 1.8125 - accuracy: 0.2791 - val_loss: 1.7173 - val_accuracy: 0.3048\n",
      "Epoch 2/100\n",
      "449/449 [==============================] - 50s 112ms/step - loss: 1.6435 - accuracy: 0.3642 - val_loss: 1.5951 - val_accuracy: 0.3845\n",
      "Epoch 3/100\n",
      "449/449 [==============================] - 49s 109ms/step - loss: 1.5601 - accuracy: 0.4059 - val_loss: 1.6233 - val_accuracy: 0.3798\n",
      "Epoch 4/100\n",
      "449/449 [==============================] - 49s 109ms/step - loss: 1.5040 - accuracy: 0.4259 - val_loss: 1.5006 - val_accuracy: 0.4199\n",
      "Epoch 5/100\n",
      "449/449 [==============================] - 48s 107ms/step - loss: 1.4525 - accuracy: 0.4470 - val_loss: 1.5208 - val_accuracy: 0.4021\n",
      "Epoch 6/100\n",
      "449/449 [==============================] - 50s 111ms/step - loss: 1.4002 - accuracy: 0.4664 - val_loss: 1.4439 - val_accuracy: 0.4366\n",
      "Epoch 7/100\n",
      "449/449 [==============================] - 48s 107ms/step - loss: 1.3528 - accuracy: 0.4885 - val_loss: 1.4193 - val_accuracy: 0.4606\n",
      "Epoch 8/100\n",
      "449/449 [==============================] - 48s 106ms/step - loss: 1.3012 - accuracy: 0.5089 - val_loss: 1.3908 - val_accuracy: 0.4762\n",
      "Epoch 9/100\n",
      "449/449 [==============================] - 47s 106ms/step - loss: 1.2583 - accuracy: 0.5316 - val_loss: 1.3590 - val_accuracy: 0.4815\n",
      "Epoch 10/100\n",
      "449/449 [==============================] - 48s 106ms/step - loss: 1.2067 - accuracy: 0.5525 - val_loss: 1.4209 - val_accuracy: 0.4706\n",
      "Epoch 11/100\n",
      "449/449 [==============================] - 48s 106ms/step - loss: 1.1618 - accuracy: 0.5709 - val_loss: 1.3585 - val_accuracy: 0.4937\n",
      "Epoch 12/100\n",
      "449/449 [==============================] - 48s 106ms/step - loss: 1.1072 - accuracy: 0.5961 - val_loss: 1.3806 - val_accuracy: 0.4720\n",
      "Epoch 13/100\n",
      "449/449 [==============================] - 48s 107ms/step - loss: 1.0546 - accuracy: 0.6147 - val_loss: 1.3783 - val_accuracy: 0.4932\n",
      "Epoch 14/100\n",
      "449/449 [==============================] - 48s 106ms/step - loss: 1.0039 - accuracy: 0.6362 - val_loss: 1.4368 - val_accuracy: 0.4762\n",
      "Epoch 15/100\n",
      "449/449 [==============================] - 48s 106ms/step - loss: 0.9431 - accuracy: 0.6615 - val_loss: 1.4101 - val_accuracy: 0.4951\n",
      "Epoch 16/100\n",
      "449/449 [==============================] - 48s 107ms/step - loss: 0.8779 - accuracy: 0.6874 - val_loss: 1.4070 - val_accuracy: 0.4909\n",
      "Epoch 17/100\n",
      "449/449 [==============================] - 48s 107ms/step - loss: 0.8108 - accuracy: 0.7134 - val_loss: 1.5132 - val_accuracy: 0.4656\n",
      "Epoch 18/100\n",
      "449/449 [==============================] - 48s 106ms/step - loss: 0.7505 - accuracy: 0.7406 - val_loss: 1.4799 - val_accuracy: 0.5040\n",
      "Epoch 19/100\n",
      "449/449 [==============================] - 48s 106ms/step - loss: 0.6847 - accuracy: 0.7612 - val_loss: 1.5811 - val_accuracy: 0.4976\n",
      "Epoch 20/100\n",
      "449/449 [==============================] - 48s 107ms/step - loss: 0.6141 - accuracy: 0.7921 - val_loss: 1.5748 - val_accuracy: 0.5013\n",
      "Epoch 21/100\n",
      "449/449 [==============================] - 48s 107ms/step - loss: 0.5421 - accuracy: 0.8160 - val_loss: 1.7028 - val_accuracy: 0.4804\n",
      "Epoch 22/100\n",
      "449/449 [==============================] - 50s 111ms/step - loss: 0.4702 - accuracy: 0.8497 - val_loss: 1.7826 - val_accuracy: 0.4723\n",
      "Epoch 23/100\n",
      "449/449 [==============================] - 48s 108ms/step - loss: 0.4069 - accuracy: 0.8708 - val_loss: 1.8815 - val_accuracy: 0.4767\n",
      "Epoch 24/100\n",
      "449/449 [==============================] - 48s 108ms/step - loss: 0.3466 - accuracy: 0.8921 - val_loss: 1.8355 - val_accuracy: 0.5026\n",
      "Epoch 25/100\n",
      "449/449 [==============================] - 48s 107ms/step - loss: 0.2875 - accuracy: 0.9153 - val_loss: 2.3874 - val_accuracy: 0.4703\n",
      "Epoch 26/100\n",
      "449/449 [==============================] - 48s 107ms/step - loss: 0.2448 - accuracy: 0.9301 - val_loss: 2.3971 - val_accuracy: 0.4739\n",
      "Epoch 27/100\n",
      "449/449 [==============================] - 48s 108ms/step - loss: 0.1924 - accuracy: 0.9479 - val_loss: 2.2469 - val_accuracy: 0.5013\n",
      "Epoch 28/100\n",
      "449/449 [==============================] - 49s 108ms/step - loss: 0.1557 - accuracy: 0.9619 - val_loss: 2.3092 - val_accuracy: 0.4987\n",
      "Epoch 29/100\n",
      "449/449 [==============================] - 49s 109ms/step - loss: 0.1187 - accuracy: 0.9747 - val_loss: 2.4182 - val_accuracy: 0.5099\n",
      "Epoch 30/100\n",
      "449/449 [==============================] - 59s 132ms/step - loss: 0.1077 - accuracy: 0.9792 - val_loss: 2.4075 - val_accuracy: 0.5035\n",
      "Epoch 31/100\n",
      "449/449 [==============================] - 157s 350ms/step - loss: 0.0816 - accuracy: 0.9859 - val_loss: 2.6111 - val_accuracy: 0.5057\n",
      "Epoch 32/100\n",
      "449/449 [==============================] - 52s 115ms/step - loss: 0.0579 - accuracy: 0.9916 - val_loss: 2.8547 - val_accuracy: 0.5052\n",
      "Epoch 33/100\n",
      "449/449 [==============================] - 51s 113ms/step - loss: 0.0869 - accuracy: 0.9838 - val_loss: 2.7291 - val_accuracy: 0.5057\n",
      "Epoch 34/100\n",
      "449/449 [==============================] - 51s 113ms/step - loss: 0.0483 - accuracy: 0.9939 - val_loss: 2.8371 - val_accuracy: 0.5149\n",
      "Epoch 35/100\n",
      "449/449 [==============================] - 53s 117ms/step - loss: 0.0727 - accuracy: 0.9882 - val_loss: 2.8202 - val_accuracy: 0.5043\n",
      "Epoch 36/100\n",
      "449/449 [==============================] - 51s 115ms/step - loss: 0.0354 - accuracy: 0.9959 - val_loss: 3.0559 - val_accuracy: 0.5113\n",
      "Epoch 37/100\n",
      "449/449 [==============================] - 51s 114ms/step - loss: 0.0522 - accuracy: 0.9921 - val_loss: 2.9597 - val_accuracy: 0.5104\n",
      "Epoch 38/100\n",
      "449/449 [==============================] - 50s 111ms/step - loss: 0.0393 - accuracy: 0.9944 - val_loss: 2.9472 - val_accuracy: 0.5107\n",
      "Epoch 39/100\n",
      "449/449 [==============================] - 51s 114ms/step - loss: 0.0328 - accuracy: 0.9953 - val_loss: 3.0755 - val_accuracy: 0.5049\n",
      "Epoch 40/100\n",
      "449/449 [==============================] - 51s 113ms/step - loss: 0.0323 - accuracy: 0.9955 - val_loss: 3.5689 - val_accuracy: 0.4893\n",
      "Epoch 41/100\n",
      "449/449 [==============================] - 50s 111ms/step - loss: 0.0296 - accuracy: 0.9959 - val_loss: 3.1798 - val_accuracy: 0.5079\n",
      "Epoch 42/100\n",
      "449/449 [==============================] - 51s 114ms/step - loss: 0.0286 - accuracy: 0.9962 - val_loss: 3.2120 - val_accuracy: 0.5091\n",
      "Epoch 43/100\n",
      "449/449 [==============================] - 50s 111ms/step - loss: 0.0278 - accuracy: 0.9962 - val_loss: 3.2111 - val_accuracy: 0.5054\n",
      "Epoch 44/100\n",
      "449/449 [==============================] - 51s 113ms/step - loss: 0.0263 - accuracy: 0.9964 - val_loss: 3.2168 - val_accuracy: 0.5010\n",
      "Epoch 45/100\n",
      "449/449 [==============================] - 50s 112ms/step - loss: 0.0261 - accuracy: 0.9962 - val_loss: 3.2896 - val_accuracy: 0.5060\n",
      "Epoch 46/100\n",
      "449/449 [==============================] - 50s 112ms/step - loss: 0.0322 - accuracy: 0.9949 - val_loss: 3.3439 - val_accuracy: 0.5040\n",
      "Epoch 47/100\n",
      "449/449 [==============================] - 51s 113ms/step - loss: 0.0255 - accuracy: 0.9961 - val_loss: 3.2950 - val_accuracy: 0.5057\n",
      "Epoch 48/100\n",
      "449/449 [==============================] - 50s 112ms/step - loss: 0.0251 - accuracy: 0.9966 - val_loss: 3.3660 - val_accuracy: 0.5054\n",
      "Epoch 49/100\n",
      "449/449 [==============================] - 50s 112ms/step - loss: 0.0266 - accuracy: 0.9960 - val_loss: 3.3439 - val_accuracy: 0.5077\n",
      "Epoch 50/100\n",
      "449/449 [==============================] - 51s 113ms/step - loss: 0.0256 - accuracy: 0.9959 - val_loss: 3.3176 - val_accuracy: 0.5077\n",
      "Epoch 51/100\n",
      "449/449 [==============================] - 50s 111ms/step - loss: 0.0236 - accuracy: 0.9965 - val_loss: 3.3450 - val_accuracy: 0.5079\n",
      "Epoch 52/100\n",
      "449/449 [==============================] - 51s 114ms/step - loss: 0.0250 - accuracy: 0.9963 - val_loss: 3.3455 - val_accuracy: 0.5038\n",
      "Epoch 53/100\n",
      "449/449 [==============================] - 50s 111ms/step - loss: 0.0398 - accuracy: 0.9935 - val_loss: 3.3434 - val_accuracy: 0.5043\n",
      "Epoch 54/100\n",
      "449/449 [==============================] - 51s 113ms/step - loss: 0.0241 - accuracy: 0.9965 - val_loss: 3.5800 - val_accuracy: 0.4957\n",
      "Epoch 55/100\n",
      "449/449 [==============================] - 51s 113ms/step - loss: 0.0229 - accuracy: 0.9966 - val_loss: 3.4076 - val_accuracy: 0.5024\n",
      "Epoch 56/100\n",
      "449/449 [==============================] - 50s 112ms/step - loss: 0.0252 - accuracy: 0.9962 - val_loss: 3.3983 - val_accuracy: 0.5010\n"
     ]
    },
    {
     "name": "stdout",
     "output_type": "stream",
     "text": [
      "Epoch 57/100\n",
      "449/449 [==============================] - 48s 107ms/step - loss: 0.0241 - accuracy: 0.9963 - val_loss: 3.4093 - val_accuracy: 0.5038\n",
      "Epoch 58/100\n",
      "449/449 [==============================] - 49s 109ms/step - loss: 0.0228 - accuracy: 0.9965 - val_loss: 3.4456 - val_accuracy: 0.4979\n",
      "Epoch 59/100\n",
      "449/449 [==============================] - 48s 107ms/step - loss: 0.0213 - accuracy: 0.9967 - val_loss: 3.7760 - val_accuracy: 0.4907\n",
      "Epoch 60/100\n",
      "449/449 [==============================] - 49s 109ms/step - loss: 0.0222 - accuracy: 0.9967 - val_loss: 3.4671 - val_accuracy: 0.5082\n",
      "Epoch 61/100\n",
      "449/449 [==============================] - 48s 107ms/step - loss: 0.0207 - accuracy: 0.9966 - val_loss: 3.4623 - val_accuracy: 0.5057\n",
      "Epoch 62/100\n",
      "449/449 [==============================] - 48s 108ms/step - loss: 0.0228 - accuracy: 0.9963 - val_loss: 3.4619 - val_accuracy: 0.5018\n",
      "Epoch 63/100\n",
      "449/449 [==============================] - 48s 107ms/step - loss: 0.0198 - accuracy: 0.9967 - val_loss: 3.4604 - val_accuracy: 0.5013\n",
      "Epoch 64/100\n",
      "449/449 [==============================] - 48s 106ms/step - loss: 0.0223 - accuracy: 0.9966 - val_loss: 3.4804 - val_accuracy: 0.5099\n",
      "Epoch 65/100\n",
      "449/449 [==============================] - 49s 108ms/step - loss: 0.0200 - accuracy: 0.9971 - val_loss: 3.4906 - val_accuracy: 0.5065\n",
      "Epoch 66/100\n",
      "449/449 [==============================] - 48s 107ms/step - loss: 0.0209 - accuracy: 0.9966 - val_loss: 3.4531 - val_accuracy: 0.5057\n",
      "Epoch 67/100\n",
      "449/449 [==============================] - 48s 107ms/step - loss: 0.0190 - accuracy: 0.9972 - val_loss: 3.4971 - val_accuracy: 0.5085\n",
      "Epoch 68/100\n",
      "449/449 [==============================] - 48s 108ms/step - loss: 0.0201 - accuracy: 0.9970 - val_loss: 3.5156 - val_accuracy: 0.5021\n",
      "Epoch 69/100\n",
      "449/449 [==============================] - 48s 107ms/step - loss: 0.0195 - accuracy: 0.9970 - val_loss: 3.5054 - val_accuracy: 0.5071\n",
      "Epoch 70/100\n",
      "449/449 [==============================] - 48s 106ms/step - loss: 0.0197 - accuracy: 0.9968 - val_loss: 3.4443 - val_accuracy: 0.5077\n",
      "Epoch 71/100\n",
      "449/449 [==============================] - 49s 108ms/step - loss: 0.0199 - accuracy: 0.9968 - val_loss: 3.4564 - val_accuracy: 0.5102\n",
      "Epoch 72/100\n",
      "449/449 [==============================] - 48s 107ms/step - loss: 0.0185 - accuracy: 0.9966 - val_loss: 3.4746 - val_accuracy: 0.5063\n",
      "Epoch 73/100\n",
      "449/449 [==============================] - 53s 118ms/step - loss: 0.0192 - accuracy: 0.9970 - val_loss: 3.5585 - val_accuracy: 0.5001\n",
      "Epoch 74/100\n",
      "449/449 [==============================] - 54s 121ms/step - loss: 0.0175 - accuracy: 0.9971 - val_loss: 3.5669 - val_accuracy: 0.5155\n",
      "Epoch 75/100\n",
      "449/449 [==============================] - 56s 124ms/step - loss: 0.0175 - accuracy: 0.9970 - val_loss: 3.5345 - val_accuracy: 0.5068\n",
      "Epoch 76/100\n",
      "449/449 [==============================] - 53s 118ms/step - loss: 0.0181 - accuracy: 0.9970 - val_loss: 3.5365 - val_accuracy: 0.5071\n",
      "Epoch 77/100\n",
      "449/449 [==============================] - 56s 124ms/step - loss: 0.0181 - accuracy: 0.9967 - val_loss: 3.5327 - val_accuracy: 0.5040\n",
      "Epoch 78/100\n",
      "449/449 [==============================] - 57s 127ms/step - loss: 0.0209 - accuracy: 0.9967 - val_loss: 3.5691 - val_accuracy: 0.5004\n",
      "Epoch 79/100\n",
      "449/449 [==============================] - 59s 131ms/step - loss: 0.0187 - accuracy: 0.9969 - val_loss: 3.5470 - val_accuracy: 0.5043\n",
      "Epoch 80/100\n",
      "449/449 [==============================] - 58s 130ms/step - loss: 0.0165 - accuracy: 0.9972 - val_loss: 3.6141 - val_accuracy: 0.5091\n",
      "Epoch 81/100\n",
      "449/449 [==============================] - 57s 128ms/step - loss: 0.0184 - accuracy: 0.9969 - val_loss: 3.5819 - val_accuracy: 0.5116\n",
      "Epoch 82/100\n",
      "449/449 [==============================] - 53s 119ms/step - loss: 0.0188 - accuracy: 0.9970 - val_loss: 3.5462 - val_accuracy: 0.5004\n",
      "Epoch 83/100\n",
      "449/449 [==============================] - 50s 110ms/step - loss: 0.0192 - accuracy: 0.9970 - val_loss: 3.5221 - val_accuracy: 0.5060\n",
      "Epoch 84/100\n",
      "449/449 [==============================] - 50s 112ms/step - loss: 0.0174 - accuracy: 0.9970 - val_loss: 3.5456 - val_accuracy: 0.5082\n",
      "Epoch 85/100\n",
      "449/449 [==============================] - 50s 111ms/step - loss: 0.0176 - accuracy: 0.9969 - val_loss: 3.5324 - val_accuracy: 0.5102\n",
      "Epoch 86/100\n",
      "449/449 [==============================] - 50s 112ms/step - loss: 0.0167 - accuracy: 0.9970 - val_loss: 3.5953 - val_accuracy: 0.5096\n",
      "Epoch 87/100\n",
      "449/449 [==============================] - 50s 110ms/step - loss: 0.0175 - accuracy: 0.9970 - val_loss: 3.5363 - val_accuracy: 0.5096\n",
      "Epoch 88/100\n",
      "449/449 [==============================] - 50s 112ms/step - loss: 0.0175 - accuracy: 0.9969 - val_loss: 3.7344 - val_accuracy: 0.5135\n",
      "Epoch 89/100\n",
      "449/449 [==============================] - 49s 110ms/step - loss: 0.0189 - accuracy: 0.9970 - val_loss: 3.5459 - val_accuracy: 0.5068\n",
      "Epoch 90/100\n",
      "449/449 [==============================] - 51s 113ms/step - loss: 0.0176 - accuracy: 0.9971 - val_loss: 3.5528 - val_accuracy: 0.5032\n",
      "Epoch 91/100\n",
      "449/449 [==============================] - 50s 111ms/step - loss: 0.0174 - accuracy: 0.9970 - val_loss: 3.6699 - val_accuracy: 0.5074\n",
      "Epoch 92/100\n",
      "449/449 [==============================] - 50s 111ms/step - loss: 0.0174 - accuracy: 0.9971 - val_loss: 3.5436 - val_accuracy: 0.5135\n",
      "Epoch 93/100\n",
      "449/449 [==============================] - 51s 113ms/step - loss: 0.0161 - accuracy: 0.9972 - val_loss: 3.5553 - val_accuracy: 0.5065\n",
      "Epoch 94/100\n",
      "449/449 [==============================] - 50s 111ms/step - loss: 0.0186 - accuracy: 0.9967 - val_loss: 3.5558 - val_accuracy: 0.5043\n",
      "Epoch 95/100\n",
      "449/449 [==============================] - 49s 109ms/step - loss: 0.0177 - accuracy: 0.9967 - val_loss: 3.5337 - val_accuracy: 0.5102\n",
      "Epoch 96/100\n",
      "449/449 [==============================] - 49s 109ms/step - loss: 0.0159 - accuracy: 0.9972 - val_loss: 3.5611 - val_accuracy: 0.5093\n",
      "Epoch 97/100\n",
      "449/449 [==============================] - 50s 110ms/step - loss: 0.0176 - accuracy: 0.9968 - val_loss: 3.5594 - val_accuracy: 0.5138\n",
      "Epoch 98/100\n",
      "449/449 [==============================] - 48s 108ms/step - loss: 0.0180 - accuracy: 0.9968 - val_loss: 3.5283 - val_accuracy: 0.5040\n",
      "Epoch 99/100\n",
      "449/449 [==============================] - 49s 109ms/step - loss: 0.0167 - accuracy: 0.9971 - val_loss: 3.5751 - val_accuracy: 0.5085\n",
      "Epoch 100/100\n",
      "449/449 [==============================] - 49s 109ms/step - loss: 0.0169 - accuracy: 0.9971 - val_loss: 3.6449 - val_accuracy: 0.5007\n"
     ]
    }
   ],
   "source": [
    "history = model.fit(train_images, train_labels, epochs=100, batch_size=64,\n",
    "                    validation_data=(test_images, test_labels), verbose=1)\n"
   ]
  },
  {
   "cell_type": "code",
   "execution_count": 41,
   "metadata": {
    "ExecuteTime": {
     "end_time": "2021-10-03T20:59:58.099443Z",
     "start_time": "2021-10-03T20:59:57.721065Z"
    }
   },
   "outputs": [
    {
     "data": {
      "image/png": "[encoded data removed]",
      "text/plain": [
       "<Figure size 432x288 with 1 Axes>"
      ]
     },
     "metadata": {
      "needs_background": "light"
     },
     "output_type": "display_data"
    },
    {
     "data": {
      "image/png": "[encoded data removed]",
      "text/plain": [
       "<Figure size 432x288 with 1 Axes>"
      ]
     },
     "metadata": {
      "needs_background": "light"
     },
     "output_type": "display_data"
    }
   ],
   "source": [
    "acc = history.history['accuracy']\n",
    "val_acc = history.history['val_accuracy']\n",
    "loss = history.history['loss']\n",
    "val_loss = history.history['val_loss']\n",
    "epochs = range(len(acc))\n",
    "plt.plot(epochs, acc, 'bo', label='Training acc')\n",
    "plt.plot(epochs, val_acc, 'b', label='Validation acc')\n",
    "plt.title('Training and validation accuracy')\n",
    "plt.legend()\n",
    "plt.figure()\n",
    "plt.plot(epochs, loss, 'bo', label='Training loss')\n",
    "plt.plot(epochs, val_loss, 'b', label='Validation loss')\n",
    "plt.title('Training and validation loss')\n",
    "plt.legend()\n",
    "plt.show()"
   ]
  },
  {
   "cell_type": "code",
   "execution_count": 42,
   "metadata": {
    "ExecuteTime": {
     "end_time": "2021-10-03T21:01:20.425230Z",
     "start_time": "2021-10-03T21:01:20.323475Z"
    }
   },
   "outputs": [],
   "source": [
    "# define VGG2_block cnn model\n",
    "model = Sequential()\n",
    "model.add(Conv2D(32, (3, 3), activation='relu', kernel_initializer='he_uniform', padding='same', input_shape=(48, 48, 3)))\n",
    "model.add(Conv2D(32, (3, 3), activation='relu', kernel_initializer='he_uniform', padding='same'))\n",
    "model.add(MaxPooling2D((2, 2)))\n",
    "model.add(Conv2D(64, (3, 3), activation='relu', kernel_initializer='he_uniform', padding='same'))\n",
    "model.add(Conv2D(64, (3, 3), activation='relu', kernel_initializer='he_uniform', padding='same'))\n",
    "model.add(MaxPooling2D((2, 2)))\n",
    "model.add(Flatten())\n",
    "model.add(Dense(128, activation='relu', kernel_initializer='he_uniform'))\n",
    "model.add(Dense(7, activation='softmax'))\n",
    "# compile model\n",
    "model.compile(optimizer= 'SGD', loss='categorical_crossentropy', metrics=['accuracy'])"
   ]
  },
  {
   "cell_type": "code",
   "execution_count": 43,
   "metadata": {
    "ExecuteTime": {
     "end_time": "2021-10-03T23:39:39.523245Z",
     "start_time": "2021-10-03T21:01:49.973833Z"
    }
   },
   "outputs": [
    {
     "name": "stdout",
     "output_type": "stream",
     "text": [
      "Epoch 1/100\n",
      "449/449 [==============================] - 88s 196ms/step - loss: 1.7556 - accuracy: 0.2966 - val_loss: 1.6938 - val_accuracy: 0.3296\n",
      "Epoch 2/100\n",
      "449/449 [==============================] - 89s 199ms/step - loss: 1.5996 - accuracy: 0.3814 - val_loss: 1.5617 - val_accuracy: 0.4060\n",
      "Epoch 3/100\n",
      "449/449 [==============================] - 92s 204ms/step - loss: 1.5148 - accuracy: 0.4200 - val_loss: 1.4975 - val_accuracy: 0.4310\n",
      "Epoch 4/100\n",
      "449/449 [==============================] - 92s 205ms/step - loss: 1.4459 - accuracy: 0.4500 - val_loss: 1.4877 - val_accuracy: 0.4238\n",
      "Epoch 5/100\n",
      "449/449 [==============================] - 95s 211ms/step - loss: 1.3828 - accuracy: 0.4754 - val_loss: 1.4505 - val_accuracy: 0.4374\n",
      "Epoch 6/100\n",
      "449/449 [==============================] - 91s 204ms/step - loss: 1.3250 - accuracy: 0.4971 - val_loss: 1.3807 - val_accuracy: 0.4742\n",
      "Epoch 7/100\n",
      "449/449 [==============================] - 92s 204ms/step - loss: 1.2685 - accuracy: 0.5224 - val_loss: 1.3725 - val_accuracy: 0.4723\n",
      "Epoch 8/100\n",
      "449/449 [==============================] - 92s 205ms/step - loss: 1.2111 - accuracy: 0.5456 - val_loss: 1.3258 - val_accuracy: 0.4999\n",
      "Epoch 9/100\n",
      "449/449 [==============================] - 92s 204ms/step - loss: 1.1519 - accuracy: 0.5699 - val_loss: 1.3237 - val_accuracy: 0.4968\n",
      "Epoch 10/100\n",
      "449/449 [==============================] - 92s 204ms/step - loss: 1.0892 - accuracy: 0.5989 - val_loss: 1.3362 - val_accuracy: 0.4965\n",
      "Epoch 11/100\n",
      "449/449 [==============================] - 92s 205ms/step - loss: 1.0211 - accuracy: 0.6262 - val_loss: 1.3706 - val_accuracy: 0.4859\n",
      "Epoch 12/100\n",
      "449/449 [==============================] - 92s 206ms/step - loss: 0.9536 - accuracy: 0.6559 - val_loss: 1.3582 - val_accuracy: 0.5091\n",
      "Epoch 13/100\n",
      "449/449 [==============================] - 92s 204ms/step - loss: 0.8746 - accuracy: 0.6843 - val_loss: 1.3928 - val_accuracy: 0.5015\n",
      "Epoch 14/100\n",
      "449/449 [==============================] - 92s 205ms/step - loss: 0.7867 - accuracy: 0.7197 - val_loss: 1.4206 - val_accuracy: 0.5305\n",
      "Epoch 15/100\n",
      "449/449 [==============================] - 90s 200ms/step - loss: 0.7054 - accuracy: 0.7516 - val_loss: 1.5001 - val_accuracy: 0.5135\n",
      "Epoch 16/100\n",
      "449/449 [==============================] - 89s 198ms/step - loss: 0.6107 - accuracy: 0.7843 - val_loss: 1.5280 - val_accuracy: 0.5071\n",
      "Epoch 17/100\n",
      "449/449 [==============================] - 89s 198ms/step - loss: 0.5239 - accuracy: 0.8192 - val_loss: 1.6229 - val_accuracy: 0.5071\n",
      "Epoch 18/100\n",
      "449/449 [==============================] - 89s 199ms/step - loss: 0.4303 - accuracy: 0.8547 - val_loss: 1.7171 - val_accuracy: 0.5141\n",
      "Epoch 19/100\n",
      "449/449 [==============================] - 89s 198ms/step - loss: 0.3551 - accuracy: 0.8809 - val_loss: 1.8885 - val_accuracy: 0.5146\n",
      "Epoch 20/100\n",
      "449/449 [==============================] - 89s 197ms/step - loss: 0.2680 - accuracy: 0.9135 - val_loss: 2.4120 - val_accuracy: 0.4681\n",
      "Epoch 21/100\n",
      "449/449 [==============================] - 89s 198ms/step - loss: 0.1989 - accuracy: 0.9377 - val_loss: 2.2754 - val_accuracy: 0.5160\n",
      "Epoch 22/100\n",
      "449/449 [==============================] - 89s 198ms/step - loss: 0.1611 - accuracy: 0.9549 - val_loss: 2.4198 - val_accuracy: 0.5093\n",
      "Epoch 23/100\n",
      "449/449 [==============================] - 89s 198ms/step - loss: 0.1250 - accuracy: 0.9665 - val_loss: 2.4202 - val_accuracy: 0.5302\n",
      "Epoch 24/100\n",
      "449/449 [==============================] - 89s 198ms/step - loss: 0.0908 - accuracy: 0.9776 - val_loss: 2.5926 - val_accuracy: 0.5291\n",
      "Epoch 25/100\n",
      "449/449 [==============================] - 90s 201ms/step - loss: 0.0665 - accuracy: 0.9870 - val_loss: 2.9962 - val_accuracy: 0.5302\n",
      "Epoch 26/100\n",
      "449/449 [==============================] - 89s 198ms/step - loss: 0.0532 - accuracy: 0.9895 - val_loss: 2.9569 - val_accuracy: 0.5283\n",
      "Epoch 27/100\n",
      "449/449 [==============================] - 89s 198ms/step - loss: 0.0499 - accuracy: 0.9910 - val_loss: 2.9518 - val_accuracy: 0.5372\n",
      "Epoch 28/100\n",
      "449/449 [==============================] - 89s 198ms/step - loss: 0.0438 - accuracy: 0.9921 - val_loss: 2.9553 - val_accuracy: 0.5297\n",
      "Epoch 29/100\n",
      "449/449 [==============================] - 89s 199ms/step - loss: 0.0367 - accuracy: 0.9940 - val_loss: 3.0875 - val_accuracy: 0.5333\n",
      "Epoch 30/100\n",
      "449/449 [==============================] - 89s 199ms/step - loss: 0.0380 - accuracy: 0.9939 - val_loss: 3.1759 - val_accuracy: 0.5280\n",
      "Epoch 31/100\n",
      "449/449 [==============================] - 89s 198ms/step - loss: 0.0318 - accuracy: 0.9956 - val_loss: 3.4559 - val_accuracy: 0.5199\n",
      "Epoch 32/100\n",
      "449/449 [==============================] - 89s 199ms/step - loss: 0.0346 - accuracy: 0.9946 - val_loss: 3.1750 - val_accuracy: 0.5244\n",
      "Epoch 33/100\n",
      "449/449 [==============================] - 89s 198ms/step - loss: 0.0267 - accuracy: 0.9961 - val_loss: 3.2847 - val_accuracy: 0.5280\n",
      "Epoch 34/100\n",
      "449/449 [==============================] - 89s 199ms/step - loss: 0.0289 - accuracy: 0.9959 - val_loss: 3.1691 - val_accuracy: 0.5330\n",
      "Epoch 35/100\n",
      "449/449 [==============================] - 89s 198ms/step - loss: 0.0242 - accuracy: 0.9964 - val_loss: 3.3161 - val_accuracy: 0.5375\n",
      "Epoch 36/100\n",
      "449/449 [==============================] - 89s 198ms/step - loss: 0.0260 - accuracy: 0.9961 - val_loss: 3.1967 - val_accuracy: 0.5364\n",
      "Epoch 37/100\n",
      "449/449 [==============================] - 89s 198ms/step - loss: 0.0254 - accuracy: 0.9957 - val_loss: 4.4153 - val_accuracy: 0.5001\n",
      "Epoch 38/100\n",
      "449/449 [==============================] - 89s 198ms/step - loss: 0.0270 - accuracy: 0.9958 - val_loss: 3.2273 - val_accuracy: 0.5369\n",
      "Epoch 39/100\n",
      "449/449 [==============================] - 89s 198ms/step - loss: 0.0238 - accuracy: 0.9964 - val_loss: 3.6434 - val_accuracy: 0.5060\n",
      "Epoch 40/100\n",
      "449/449 [==============================] - 89s 198ms/step - loss: 0.0250 - accuracy: 0.9962 - val_loss: 3.2602 - val_accuracy: 0.5249\n",
      "Epoch 41/100\n",
      "449/449 [==============================] - 89s 199ms/step - loss: 0.0234 - accuracy: 0.9965 - val_loss: 3.3082 - val_accuracy: 0.5219\n",
      "Epoch 42/100\n",
      "449/449 [==============================] - 89s 199ms/step - loss: 0.0248 - accuracy: 0.9962 - val_loss: 3.3793 - val_accuracy: 0.5199\n",
      "Epoch 43/100\n",
      "449/449 [==============================] - 89s 198ms/step - loss: 0.0219 - accuracy: 0.9968 - val_loss: 3.3187 - val_accuracy: 0.5274\n",
      "Epoch 44/100\n",
      "449/449 [==============================] - 89s 198ms/step - loss: 0.0230 - accuracy: 0.9964 - val_loss: 3.1920 - val_accuracy: 0.5372\n",
      "Epoch 45/100\n",
      "449/449 [==============================] - 89s 198ms/step - loss: 0.0217 - accuracy: 0.9967 - val_loss: 3.1658 - val_accuracy: 0.5311\n",
      "Epoch 46/100\n",
      "449/449 [==============================] - 89s 198ms/step - loss: 0.0196 - accuracy: 0.9967 - val_loss: 3.2544 - val_accuracy: 0.5297\n",
      "Epoch 47/100\n",
      "449/449 [==============================] - 90s 201ms/step - loss: 0.0199 - accuracy: 0.9966 - val_loss: 3.2091 - val_accuracy: 0.5344\n",
      "Epoch 48/100\n",
      "449/449 [==============================] - 89s 198ms/step - loss: 0.0188 - accuracy: 0.9970 - val_loss: 3.2243 - val_accuracy: 0.5269\n",
      "Epoch 49/100\n",
      "449/449 [==============================] - 92s 205ms/step - loss: 0.0196 - accuracy: 0.9968 - val_loss: 3.2393 - val_accuracy: 0.5394\n",
      "Epoch 50/100\n",
      "449/449 [==============================] - 103s 229ms/step - loss: 0.0194 - accuracy: 0.9968 - val_loss: 3.2015 - val_accuracy: 0.5339\n",
      "Epoch 51/100\n",
      "449/449 [==============================] - 98s 219ms/step - loss: 0.0181 - accuracy: 0.9970 - val_loss: 3.2922 - val_accuracy: 0.5352\n",
      "Epoch 52/100\n",
      "449/449 [==============================] - 99s 220ms/step - loss: 0.0180 - accuracy: 0.9968 - val_loss: 3.2456 - val_accuracy: 0.5386\n",
      "Epoch 53/100\n",
      "449/449 [==============================] - 103s 230ms/step - loss: 0.0176 - accuracy: 0.9969 - val_loss: 3.2572 - val_accuracy: 0.5358\n",
      "Epoch 54/100\n",
      "449/449 [==============================] - 103s 230ms/step - loss: 0.0184 - accuracy: 0.9968 - val_loss: 3.2054 - val_accuracy: 0.5375\n",
      "Epoch 55/100\n",
      "449/449 [==============================] - 95s 212ms/step - loss: 0.0196 - accuracy: 0.9966 - val_loss: 3.2180 - val_accuracy: 0.5369\n",
      "Epoch 56/100\n",
      "449/449 [==============================] - 94s 210ms/step - loss: 0.0191 - accuracy: 0.9968 - val_loss: 3.1534 - val_accuracy: 0.5372\n"
     ]
    },
    {
     "name": "stdout",
     "output_type": "stream",
     "text": [
      "Epoch 57/100\n",
      "449/449 [==============================] - 95s 212ms/step - loss: 0.0168 - accuracy: 0.9969 - val_loss: 3.1800 - val_accuracy: 0.5302\n",
      "Epoch 58/100\n",
      "449/449 [==============================] - 95s 211ms/step - loss: 0.0181 - accuracy: 0.9967 - val_loss: 3.1563 - val_accuracy: 0.5344\n",
      "Epoch 59/100\n",
      "449/449 [==============================] - 91s 202ms/step - loss: 0.0159 - accuracy: 0.9971 - val_loss: 3.2958 - val_accuracy: 0.5417\n",
      "Epoch 60/100\n",
      "449/449 [==============================] - 90s 201ms/step - loss: 0.0169 - accuracy: 0.9969 - val_loss: 3.2104 - val_accuracy: 0.5319\n",
      "Epoch 61/100\n",
      "449/449 [==============================] - 90s 201ms/step - loss: 0.0164 - accuracy: 0.9968 - val_loss: 3.2013 - val_accuracy: 0.5433\n",
      "Epoch 62/100\n",
      "449/449 [==============================] - 91s 203ms/step - loss: 0.0176 - accuracy: 0.9968 - val_loss: 3.1448 - val_accuracy: 0.5369\n",
      "Epoch 63/100\n",
      "449/449 [==============================] - 92s 205ms/step - loss: 0.0164 - accuracy: 0.9969 - val_loss: 3.2129 - val_accuracy: 0.5372\n",
      "Epoch 64/100\n",
      "449/449 [==============================] - 92s 205ms/step - loss: 0.0142 - accuracy: 0.9974 - val_loss: 3.1834 - val_accuracy: 0.5333\n",
      "Epoch 65/100\n",
      "449/449 [==============================] - 92s 205ms/step - loss: 0.0141 - accuracy: 0.9972 - val_loss: 3.2082 - val_accuracy: 0.5300\n",
      "Epoch 66/100\n",
      "449/449 [==============================] - 94s 210ms/step - loss: 0.0169 - accuracy: 0.9969 - val_loss: 3.2039 - val_accuracy: 0.5352\n",
      "Epoch 67/100\n",
      "449/449 [==============================] - 106s 237ms/step - loss: 0.0140 - accuracy: 0.9972 - val_loss: 3.2684 - val_accuracy: 0.5308\n",
      "Epoch 68/100\n",
      "449/449 [==============================] - 105s 235ms/step - loss: 0.0160 - accuracy: 0.9971 - val_loss: 3.1716 - val_accuracy: 0.5380\n",
      "Epoch 69/100\n",
      "449/449 [==============================] - 106s 237ms/step - loss: 0.0164 - accuracy: 0.9968 - val_loss: 3.1920 - val_accuracy: 0.5294\n",
      "Epoch 70/100\n",
      "449/449 [==============================] - 94s 209ms/step - loss: 0.0155 - accuracy: 0.9970 - val_loss: 3.2204 - val_accuracy: 0.5333\n",
      "Epoch 71/100\n",
      "449/449 [==============================] - 94s 209ms/step - loss: 0.0157 - accuracy: 0.9970 - val_loss: 3.2052 - val_accuracy: 0.5417\n",
      "Epoch 72/100\n",
      "449/449 [==============================] - 96s 214ms/step - loss: 0.0149 - accuracy: 0.9970 - val_loss: 3.1824 - val_accuracy: 0.5358\n",
      "Epoch 73/100\n",
      "449/449 [==============================] - 98s 218ms/step - loss: 0.0152 - accuracy: 0.9971 - val_loss: 3.1619 - val_accuracy: 0.5344\n",
      "Epoch 74/100\n",
      "449/449 [==============================] - 102s 227ms/step - loss: 0.0144 - accuracy: 0.9971 - val_loss: 3.2170 - val_accuracy: 0.5358\n",
      "Epoch 75/100\n",
      "449/449 [==============================] - 104s 232ms/step - loss: 0.0153 - accuracy: 0.9969 - val_loss: 3.1629 - val_accuracy: 0.5428\n",
      "Epoch 76/100\n",
      "449/449 [==============================] - 100s 222ms/step - loss: 0.0146 - accuracy: 0.9970 - val_loss: 3.2155 - val_accuracy: 0.5380\n",
      "Epoch 77/100\n",
      "449/449 [==============================] - 103s 230ms/step - loss: 0.0139 - accuracy: 0.9970 - val_loss: 3.1761 - val_accuracy: 0.5372\n",
      "Epoch 78/100\n",
      "449/449 [==============================] - 100s 223ms/step - loss: 0.0134 - accuracy: 0.9975 - val_loss: 3.1896 - val_accuracy: 0.5283\n",
      "Epoch 79/100\n",
      "449/449 [==============================] - 98s 219ms/step - loss: 0.0142 - accuracy: 0.9973 - val_loss: 3.1868 - val_accuracy: 0.5372\n",
      "Epoch 80/100\n",
      "449/449 [==============================] - 97s 216ms/step - loss: 0.0148 - accuracy: 0.9969 - val_loss: 3.1656 - val_accuracy: 0.5366\n",
      "Epoch 81/100\n",
      "449/449 [==============================] - 98s 218ms/step - loss: 0.0137 - accuracy: 0.9971 - val_loss: 3.1617 - val_accuracy: 0.5316\n",
      "Epoch 82/100\n",
      "449/449 [==============================] - 97s 215ms/step - loss: 0.0155 - accuracy: 0.9968 - val_loss: 3.1270 - val_accuracy: 0.5336\n",
      "Epoch 83/100\n",
      "449/449 [==============================] - 98s 217ms/step - loss: 0.0123 - accuracy: 0.9974 - val_loss: 3.1963 - val_accuracy: 0.5391\n",
      "Epoch 84/100\n",
      "449/449 [==============================] - 97s 216ms/step - loss: 0.0134 - accuracy: 0.9971 - val_loss: 3.1872 - val_accuracy: 0.5383\n",
      "Epoch 85/100\n",
      "449/449 [==============================] - 98s 218ms/step - loss: 0.0141 - accuracy: 0.9970 - val_loss: 3.2333 - val_accuracy: 0.5308\n",
      "Epoch 86/100\n",
      "449/449 [==============================] - 111s 248ms/step - loss: 0.0132 - accuracy: 0.9971 - val_loss: 3.1987 - val_accuracy: 0.5361\n",
      "Epoch 87/100\n",
      "449/449 [==============================] - 98s 217ms/step - loss: 0.0144 - accuracy: 0.9972 - val_loss: 3.1692 - val_accuracy: 0.5403\n",
      "Epoch 88/100\n",
      "449/449 [==============================] - 99s 220ms/step - loss: 0.0126 - accuracy: 0.9974 - val_loss: 3.1740 - val_accuracy: 0.5350\n",
      "Epoch 89/100\n",
      "449/449 [==============================] - 99s 221ms/step - loss: 0.0134 - accuracy: 0.9970 - val_loss: 3.1412 - val_accuracy: 0.5305\n",
      "Epoch 90/100\n",
      "449/449 [==============================] - 103s 230ms/step - loss: 0.0134 - accuracy: 0.9971 - val_loss: 3.1543 - val_accuracy: 0.5288\n",
      "Epoch 91/100\n",
      "449/449 [==============================] - 105s 234ms/step - loss: 0.0131 - accuracy: 0.9971 - val_loss: 3.1424 - val_accuracy: 0.5364\n",
      "Epoch 92/100\n",
      "449/449 [==============================] - 105s 233ms/step - loss: 0.0128 - accuracy: 0.9971 - val_loss: 3.1790 - val_accuracy: 0.5397\n",
      "Epoch 93/100\n",
      "449/449 [==============================] - 96s 214ms/step - loss: 0.0121 - accuracy: 0.9974 - val_loss: 3.1835 - val_accuracy: 0.5380\n",
      "Epoch 94/100\n",
      "449/449 [==============================] - 111s 248ms/step - loss: 0.0122 - accuracy: 0.9972 - val_loss: 3.1838 - val_accuracy: 0.5372\n",
      "Epoch 95/100\n",
      "449/449 [==============================] - 111s 247ms/step - loss: 0.0124 - accuracy: 0.9973 - val_loss: 3.1597 - val_accuracy: 0.5425\n",
      "Epoch 96/100\n",
      "449/449 [==============================] - 100s 222ms/step - loss: 0.0125 - accuracy: 0.9972 - val_loss: 3.2254 - val_accuracy: 0.5369\n",
      "Epoch 97/100\n",
      "449/449 [==============================] - 100s 222ms/step - loss: 0.0132 - accuracy: 0.9971 - val_loss: 3.1629 - val_accuracy: 0.5364\n",
      "Epoch 98/100\n",
      "449/449 [==============================] - 99s 221ms/step - loss: 0.0135 - accuracy: 0.9970 - val_loss: 3.1762 - val_accuracy: 0.5325\n",
      "Epoch 99/100\n",
      "449/449 [==============================] - 98s 219ms/step - loss: 0.0119 - accuracy: 0.9972 - val_loss: 3.1231 - val_accuracy: 0.5327\n",
      "Epoch 100/100\n",
      "449/449 [==============================] - 100s 224ms/step - loss: 0.0115 - accuracy: 0.9974 - val_loss: 3.2054 - val_accuracy: 0.5394\n"
     ]
    }
   ],
   "source": [
    "history_vgg2 = model.fit(train_images, train_labels, epochs=100, batch_size=64,\n",
    "                    validation_data=(test_images, test_labels), verbose=1)\n"
   ]
  },
  {
   "cell_type": "code",
   "execution_count": 44,
   "metadata": {
    "ExecuteTime": {
     "end_time": "2021-10-03T23:40:04.771408Z",
     "start_time": "2021-10-03T23:40:04.444620Z"
    }
   },
   "outputs": [
    {
     "data": {
      "image/png": "[encoded data removed]",
      "text/plain": [
       "<Figure size 432x288 with 1 Axes>"
      ]
     },
     "metadata": {
      "needs_background": "light"
     },
     "output_type": "display_data"
    },
    {
     "data": {
      "image/png": "[encoded data removed]",
      "text/plain": [
       "<Figure size 432x288 with 1 Axes>"
      ]
     },
     "metadata": {
      "needs_background": "light"
     },
     "output_type": "display_data"
    }
   ],
   "source": [
    "acc = history_vgg2.history['accuracy']\n",
    "val_acc = history_vgg2.history['val_accuracy']\n",
    "loss = history_vgg2.history['loss']\n",
    "val_loss = history_vgg2.history['val_loss']\n",
    "epochs = range(len(acc))\n",
    "plt.plot(epochs, acc, 'bo', label='Training acc')\n",
    "plt.plot(epochs, val_acc, 'b', label='Validation acc')\n",
    "plt.title('Training and validation accuracy')\n",
    "plt.legend()\n",
    "plt.figure()\n",
    "plt.plot(epochs, loss, 'bo', label='Training loss')\n",
    "plt.plot(epochs, val_loss, 'b', label='Validation loss')\n",
    "plt.title('Training and validation loss')\n",
    "plt.legend()\n",
    "plt.show()"
   ]
  },
  {
   "cell_type": "code",
   "execution_count": 46,
   "metadata": {
    "ExecuteTime": {
     "end_time": "2021-10-03T23:54:27.103483Z",
     "start_time": "2021-10-03T23:54:26.953423Z"
    }
   },
   "outputs": [],
   "source": [
    "# Adding more layers helped imporve the VAL_ACC \n",
    "# define VGG5_block cnn model\n",
    "model = Sequential()\n",
    "model.add(Conv2D(32, (3, 3), activation='relu', kernel_initializer='he_uniform', padding='same', input_shape=(48, 48, 3)))\n",
    "model.add(Conv2D(32, (3, 3), activation='relu', kernel_initializer='he_uniform', padding='same'))\n",
    "model.add(MaxPooling2D((2, 2)))\n",
    "model.add(Conv2D(64, (3, 3), activation='relu', kernel_initializer='he_uniform', padding='same'))\n",
    "model.add(Conv2D(64, (3, 3), activation='relu', kernel_initializer='he_uniform', padding='same'))\n",
    "model.add(MaxPooling2D((2, 2)))\n",
    "model.add(Conv2D(128, (3, 3), activation='relu', kernel_initializer='he_uniform', padding='same'))\n",
    "model.add(Conv2D(128, (3, 3), activation='relu', kernel_initializer='he_uniform', padding='same'))\n",
    "model.add(MaxPooling2D((2, 2)))\n",
    "model.add(Conv2D(256, (3, 3), activation='relu', kernel_initializer='he_uniform', padding='same'))\n",
    "model.add(Conv2D(256, (3, 3), activation='relu', kernel_initializer='he_uniform', padding='same'))\n",
    "model.add(MaxPooling2D((2, 2)))\n",
    "model.add(Conv2D(512, (3, 3), activation='relu', kernel_initializer='he_uniform', padding='same'))\n",
    "model.add(Conv2D(512, (3, 3), activation='relu', kernel_initializer='he_uniform', padding='same'))\n",
    "model.add(MaxPooling2D((2, 2)))\n",
    "model.add(Flatten())\n",
    "model.add(Dense(128, activation='relu', kernel_initializer='he_uniform'))\n",
    "model.add(Dense(7, activation='softmax'))\n",
    "# compile model\n",
    "model.compile(optimizer= 'SGD', loss='categorical_crossentropy', metrics=['accuracy'])"
   ]
  },
  {
   "cell_type": "code",
   "execution_count": 47,
   "metadata": {
    "ExecuteTime": {
     "end_time": "2021-10-04T07:00:34.005418Z",
     "start_time": "2021-10-03T23:54:56.826010Z"
    }
   },
   "outputs": [
    {
     "name": "stdout",
     "output_type": "stream",
     "text": [
      "Epoch 1/100\n",
      "449/449 [==============================] - 242s 539ms/step - loss: 1.7714 - accuracy: 0.2749 - val_loss: 1.6615 - val_accuracy: 0.3611\n",
      "Epoch 2/100\n",
      "449/449 [==============================] - 254s 565ms/step - loss: 1.6305 - accuracy: 0.3644 - val_loss: 1.5925 - val_accuracy: 0.3915\n",
      "Epoch 3/100\n",
      "449/449 [==============================] - 289s 643ms/step - loss: 1.5308 - accuracy: 0.4081 - val_loss: 1.4957 - val_accuracy: 0.4319\n",
      "Epoch 4/100\n",
      "449/449 [==============================] - 258s 575ms/step - loss: 1.4541 - accuracy: 0.4404 - val_loss: 1.4500 - val_accuracy: 0.4466\n",
      "Epoch 5/100\n",
      "449/449 [==============================] - 258s 575ms/step - loss: 1.3837 - accuracy: 0.4693 - val_loss: 1.3596 - val_accuracy: 0.4859\n",
      "Epoch 6/100\n",
      "449/449 [==============================] - 256s 570ms/step - loss: 1.3208 - accuracy: 0.4975 - val_loss: 1.3776 - val_accuracy: 0.4689\n",
      "Epoch 7/100\n",
      "449/449 [==============================] - 266s 593ms/step - loss: 1.2518 - accuracy: 0.5263 - val_loss: 1.3277 - val_accuracy: 0.4817\n",
      "Epoch 8/100\n",
      "449/449 [==============================] - 266s 591ms/step - loss: 1.1949 - accuracy: 0.5448 - val_loss: 1.2711 - val_accuracy: 0.5104\n",
      "Epoch 9/100\n",
      "449/449 [==============================] - 270s 601ms/step - loss: 1.1268 - accuracy: 0.5774 - val_loss: 1.3013 - val_accuracy: 0.5130\n",
      "Epoch 10/100\n",
      "449/449 [==============================] - 274s 610ms/step - loss: 1.0631 - accuracy: 0.6052 - val_loss: 1.3984 - val_accuracy: 0.5057\n",
      "Epoch 11/100\n",
      "449/449 [==============================] - 280s 623ms/step - loss: 0.9976 - accuracy: 0.6328 - val_loss: 1.2329 - val_accuracy: 0.5414\n",
      "Epoch 12/100\n",
      "449/449 [==============================] - 271s 603ms/step - loss: 0.9246 - accuracy: 0.6585 - val_loss: 1.2785 - val_accuracy: 0.5389\n",
      "Epoch 13/100\n",
      "449/449 [==============================] - 258s 574ms/step - loss: 0.8522 - accuracy: 0.6846 - val_loss: 1.3804 - val_accuracy: 0.5339\n",
      "Epoch 14/100\n",
      "449/449 [==============================] - 259s 576ms/step - loss: 0.7844 - accuracy: 0.7137 - val_loss: 1.5081 - val_accuracy: 0.4901\n",
      "Epoch 15/100\n",
      "449/449 [==============================] - 258s 575ms/step - loss: 0.7014 - accuracy: 0.7445 - val_loss: 1.4068 - val_accuracy: 0.5300\n",
      "Epoch 16/100\n",
      "449/449 [==============================] - 256s 570ms/step - loss: 0.6244 - accuracy: 0.7720 - val_loss: 1.4769 - val_accuracy: 0.5308\n",
      "Epoch 17/100\n",
      "449/449 [==============================] - 255s 569ms/step - loss: 0.5374 - accuracy: 0.8053 - val_loss: 1.5239 - val_accuracy: 0.5584\n",
      "Epoch 18/100\n",
      "449/449 [==============================] - 254s 566ms/step - loss: 0.4697 - accuracy: 0.8333 - val_loss: 1.4926 - val_accuracy: 0.5573\n",
      "Epoch 19/100\n",
      "449/449 [==============================] - 254s 565ms/step - loss: 0.3941 - accuracy: 0.8621 - val_loss: 1.6670 - val_accuracy: 0.5483\n",
      "Epoch 20/100\n",
      "449/449 [==============================] - 254s 565ms/step - loss: 0.3380 - accuracy: 0.8838 - val_loss: 1.7334 - val_accuracy: 0.5642\n",
      "Epoch 21/100\n",
      "449/449 [==============================] - 254s 567ms/step - loss: 0.2609 - accuracy: 0.9135 - val_loss: 1.8635 - val_accuracy: 0.5425\n",
      "Epoch 22/100\n",
      "449/449 [==============================] - 254s 566ms/step - loss: 0.2453 - accuracy: 0.9219 - val_loss: 2.1548 - val_accuracy: 0.5222\n",
      "Epoch 23/100\n",
      "449/449 [==============================] - 254s 566ms/step - loss: 0.2050 - accuracy: 0.9326 - val_loss: 2.1267 - val_accuracy: 0.5570\n",
      "Epoch 24/100\n",
      "449/449 [==============================] - 254s 566ms/step - loss: 0.1822 - accuracy: 0.9439 - val_loss: 2.4117 - val_accuracy: 0.5065\n",
      "Epoch 25/100\n",
      "449/449 [==============================] - 254s 566ms/step - loss: 0.1475 - accuracy: 0.9519 - val_loss: 2.6376 - val_accuracy: 0.5216\n",
      "Epoch 26/100\n",
      "449/449 [==============================] - 254s 565ms/step - loss: 0.1392 - accuracy: 0.9555 - val_loss: 2.0933 - val_accuracy: 0.5587\n",
      "Epoch 27/100\n",
      "449/449 [==============================] - 254s 566ms/step - loss: 0.1118 - accuracy: 0.9664 - val_loss: 2.2863 - val_accuracy: 0.5573\n",
      "Epoch 28/100\n",
      "449/449 [==============================] - 254s 566ms/step - loss: 0.0979 - accuracy: 0.9706 - val_loss: 2.3975 - val_accuracy: 0.5573\n",
      "Epoch 29/100\n",
      "449/449 [==============================] - 254s 566ms/step - loss: 0.0890 - accuracy: 0.9745 - val_loss: 2.8613 - val_accuracy: 0.5405\n",
      "Epoch 30/100\n",
      "449/449 [==============================] - 261s 582ms/step - loss: 0.1148 - accuracy: 0.9681 - val_loss: 2.5220 - val_accuracy: 0.5642\n",
      "Epoch 31/100\n",
      "449/449 [==============================] - 275s 613ms/step - loss: 0.0476 - accuracy: 0.9892 - val_loss: 2.7735 - val_accuracy: 0.5581\n",
      "Epoch 32/100\n",
      "449/449 [==============================] - 257s 572ms/step - loss: 0.0436 - accuracy: 0.9878 - val_loss: 3.0744 - val_accuracy: 0.5573\n",
      "Epoch 33/100\n",
      "449/449 [==============================] - 257s 572ms/step - loss: 0.0466 - accuracy: 0.9891 - val_loss: 2.7254 - val_accuracy: 0.5520\n",
      "Epoch 34/100\n",
      "449/449 [==============================] - 256s 570ms/step - loss: 0.0402 - accuracy: 0.9901 - val_loss: 2.9007 - val_accuracy: 0.5673\n",
      "Epoch 35/100\n",
      "449/449 [==============================] - 256s 570ms/step - loss: 0.0258 - accuracy: 0.9948 - val_loss: 2.7506 - val_accuracy: 0.5645\n",
      "Epoch 36/100\n",
      "449/449 [==============================] - 255s 569ms/step - loss: 0.0243 - accuracy: 0.9946 - val_loss: 2.9799 - val_accuracy: 0.5692\n",
      "Epoch 37/100\n",
      "449/449 [==============================] - 268s 597ms/step - loss: 0.0203 - accuracy: 0.9958 - val_loss: 2.7753 - val_accuracy: 0.5770\n",
      "Epoch 38/100\n",
      "449/449 [==============================] - 260s 579ms/step - loss: 0.0185 - accuracy: 0.9963 - val_loss: 2.7458 - val_accuracy: 0.5748\n",
      "Epoch 39/100\n",
      "449/449 [==============================] - 257s 573ms/step - loss: 0.0151 - accuracy: 0.9966 - val_loss: 2.7420 - val_accuracy: 0.5678\n",
      "Epoch 40/100\n",
      "449/449 [==============================] - 258s 575ms/step - loss: 0.0135 - accuracy: 0.9969 - val_loss: 2.8188 - val_accuracy: 0.5851\n",
      "Epoch 41/100\n",
      "449/449 [==============================] - 259s 577ms/step - loss: 0.0123 - accuracy: 0.9969 - val_loss: 2.8576 - val_accuracy: 0.5787\n",
      "Epoch 42/100\n",
      "449/449 [==============================] - 258s 575ms/step - loss: 0.0128 - accuracy: 0.9967 - val_loss: 2.8201 - val_accuracy: 0.5818\n",
      "Epoch 43/100\n",
      "449/449 [==============================] - 258s 574ms/step - loss: 0.0112 - accuracy: 0.9969 - val_loss: 2.7246 - val_accuracy: 0.5773\n",
      "Epoch 44/100\n",
      "449/449 [==============================] - 258s 574ms/step - loss: 0.0108 - accuracy: 0.9969 - val_loss: 2.7999 - val_accuracy: 0.5801\n",
      "Epoch 45/100\n",
      "449/449 [==============================] - 286s 636ms/step - loss: 0.0091 - accuracy: 0.9972 - val_loss: 2.8698 - val_accuracy: 0.5756\n",
      "Epoch 46/100\n",
      "449/449 [==============================] - 275s 613ms/step - loss: 0.0096 - accuracy: 0.9971 - val_loss: 2.7420 - val_accuracy: 0.5851\n",
      "Epoch 47/100\n",
      "449/449 [==============================] - 274s 611ms/step - loss: 0.0093 - accuracy: 0.9972 - val_loss: 2.7388 - val_accuracy: 0.5843\n",
      "Epoch 48/100\n",
      "449/449 [==============================] - 270s 602ms/step - loss: 0.0089 - accuracy: 0.9968 - val_loss: 2.7358 - val_accuracy: 0.5818\n",
      "Epoch 49/100\n",
      "449/449 [==============================] - 256s 570ms/step - loss: 0.0083 - accuracy: 0.9973 - val_loss: 2.6994 - val_accuracy: 0.5793\n",
      "Epoch 50/100\n",
      "449/449 [==============================] - 254s 566ms/step - loss: 0.0087 - accuracy: 0.9968 - val_loss: 2.8772 - val_accuracy: 0.5871\n",
      "Epoch 51/100\n",
      "449/449 [==============================] - 255s 568ms/step - loss: 0.0082 - accuracy: 0.9971 - val_loss: 2.7225 - val_accuracy: 0.5874\n",
      "Epoch 52/100\n",
      "449/449 [==============================] - 248s 552ms/step - loss: 0.0075 - accuracy: 0.9972 - val_loss: 2.7772 - val_accuracy: 0.5837\n",
      "Epoch 53/100\n",
      "449/449 [==============================] - 249s 554ms/step - loss: 0.0081 - accuracy: 0.9971 - val_loss: 2.7452 - val_accuracy: 0.5826\n",
      "Epoch 54/100\n",
      "449/449 [==============================] - 259s 578ms/step - loss: 0.0073 - accuracy: 0.9971 - val_loss: 2.8307 - val_accuracy: 0.5826\n",
      "Epoch 55/100\n",
      "449/449 [==============================] - 278s 618ms/step - loss: 0.0077 - accuracy: 0.9970 - val_loss: 2.6857 - val_accuracy: 0.5795\n",
      "Epoch 56/100\n"
     ]
    },
    {
     "name": "stdout",
     "output_type": "stream",
     "text": [
      "449/449 [==============================] - 264s 589ms/step - loss: 0.0071 - accuracy: 0.9972 - val_loss: 2.7439 - val_accuracy: 0.5823\n",
      "Epoch 57/100\n",
      "449/449 [==============================] - 254s 565ms/step - loss: 0.0073 - accuracy: 0.9972 - val_loss: 2.7379 - val_accuracy: 0.5832\n",
      "Epoch 58/100\n",
      "449/449 [==============================] - 252s 562ms/step - loss: 0.0065 - accuracy: 0.9973 - val_loss: 2.7354 - val_accuracy: 0.5868\n",
      "Epoch 59/100\n",
      "449/449 [==============================] - 250s 556ms/step - loss: 0.0070 - accuracy: 0.9972 - val_loss: 2.7110 - val_accuracy: 0.5793\n",
      "Epoch 60/100\n",
      "449/449 [==============================] - 249s 555ms/step - loss: 0.0068 - accuracy: 0.9971 - val_loss: 2.8402 - val_accuracy: 0.5821\n",
      "Epoch 61/100\n",
      "449/449 [==============================] - 250s 557ms/step - loss: 0.0065 - accuracy: 0.9973 - val_loss: 2.7285 - val_accuracy: 0.5815\n",
      "Epoch 62/100\n",
      "449/449 [==============================] - 273s 609ms/step - loss: 0.0068 - accuracy: 0.9969 - val_loss: 2.7411 - val_accuracy: 0.5854\n",
      "Epoch 63/100\n",
      "449/449 [==============================] - 278s 618ms/step - loss: 0.0063 - accuracy: 0.9972 - val_loss: 2.8065 - val_accuracy: 0.5821\n",
      "Epoch 64/100\n",
      "449/449 [==============================] - 283s 631ms/step - loss: 0.0061 - accuracy: 0.9975 - val_loss: 2.7958 - val_accuracy: 0.5821\n",
      "Epoch 65/100\n",
      "449/449 [==============================] - 262s 582ms/step - loss: 0.0061 - accuracy: 0.9972 - val_loss: 2.7696 - val_accuracy: 0.5787\n",
      "Epoch 66/100\n",
      "449/449 [==============================] - 266s 593ms/step - loss: 0.0062 - accuracy: 0.9973 - val_loss: 2.8020 - val_accuracy: 0.5784\n",
      "Epoch 67/100\n",
      "449/449 [==============================] - 258s 574ms/step - loss: 0.0062 - accuracy: 0.9972 - val_loss: 2.8896 - val_accuracy: 0.5848\n",
      "Epoch 68/100\n",
      "449/449 [==============================] - 264s 588ms/step - loss: 0.0065 - accuracy: 0.9971 - val_loss: 2.8433 - val_accuracy: 0.5840\n",
      "Epoch 69/100\n",
      "449/449 [==============================] - 260s 578ms/step - loss: 0.0059 - accuracy: 0.9975 - val_loss: 2.8766 - val_accuracy: 0.5809\n",
      "Epoch 70/100\n",
      "449/449 [==============================] - 288s 642ms/step - loss: 0.0061 - accuracy: 0.9972 - val_loss: 2.7615 - val_accuracy: 0.5848\n",
      "Epoch 71/100\n",
      "449/449 [==============================] - 261s 581ms/step - loss: 0.0059 - accuracy: 0.9973 - val_loss: 2.8178 - val_accuracy: 0.5812\n",
      "Epoch 72/100\n",
      "449/449 [==============================] - 257s 573ms/step - loss: 0.0055 - accuracy: 0.9976 - val_loss: 2.9058 - val_accuracy: 0.5829\n",
      "Epoch 73/100\n",
      "449/449 [==============================] - 257s 572ms/step - loss: 0.0057 - accuracy: 0.9975 - val_loss: 2.8249 - val_accuracy: 0.5871\n",
      "Epoch 74/100\n",
      "449/449 [==============================] - 256s 571ms/step - loss: 0.0057 - accuracy: 0.9972 - val_loss: 2.8538 - val_accuracy: 0.5876\n",
      "Epoch 75/100\n",
      "449/449 [==============================] - 253s 563ms/step - loss: 0.0059 - accuracy: 0.9971 - val_loss: 2.8732 - val_accuracy: 0.5843\n",
      "Epoch 76/100\n",
      "449/449 [==============================] - 248s 553ms/step - loss: 0.0054 - accuracy: 0.9976 - val_loss: 2.8304 - val_accuracy: 0.5854\n",
      "Epoch 77/100\n",
      "449/449 [==============================] - 246s 548ms/step - loss: 0.0054 - accuracy: 0.9973 - val_loss: 2.8643 - val_accuracy: 0.5843\n",
      "Epoch 78/100\n",
      "449/449 [==============================] - 243s 541ms/step - loss: 0.0055 - accuracy: 0.9975 - val_loss: 2.8513 - val_accuracy: 0.5865\n",
      "Epoch 79/100\n",
      "449/449 [==============================] - 241s 537ms/step - loss: 0.0058 - accuracy: 0.9971 - val_loss: 2.8948 - val_accuracy: 0.5840\n",
      "Epoch 80/100\n",
      "449/449 [==============================] - 238s 531ms/step - loss: 0.0055 - accuracy: 0.9975 - val_loss: 2.8204 - val_accuracy: 0.5829\n",
      "Epoch 81/100\n",
      "449/449 [==============================] - 238s 529ms/step - loss: 0.0056 - accuracy: 0.9968 - val_loss: 2.8338 - val_accuracy: 0.5846\n",
      "Epoch 82/100\n",
      "449/449 [==============================] - 236s 527ms/step - loss: 0.0054 - accuracy: 0.9973 - val_loss: 2.8232 - val_accuracy: 0.5798\n",
      "Epoch 83/100\n",
      "449/449 [==============================] - 237s 527ms/step - loss: 0.0054 - accuracy: 0.9972 - val_loss: 2.8419 - val_accuracy: 0.5857\n",
      "Epoch 84/100\n",
      "449/449 [==============================] - 236s 527ms/step - loss: 0.0051 - accuracy: 0.9974 - val_loss: 2.8878 - val_accuracy: 0.5829\n",
      "Epoch 85/100\n",
      "449/449 [==============================] - 236s 525ms/step - loss: 0.0051 - accuracy: 0.9975 - val_loss: 2.8265 - val_accuracy: 0.5837\n",
      "Epoch 86/100\n",
      "449/449 [==============================] - 236s 526ms/step - loss: 0.0053 - accuracy: 0.9974 - val_loss: 2.8885 - val_accuracy: 0.5801\n",
      "Epoch 87/100\n",
      "449/449 [==============================] - 236s 525ms/step - loss: 0.0052 - accuracy: 0.9972 - val_loss: 2.8861 - val_accuracy: 0.5854\n",
      "Epoch 88/100\n",
      "449/449 [==============================] - 235s 523ms/step - loss: 0.0053 - accuracy: 0.9973 - val_loss: 2.8937 - val_accuracy: 0.5854\n",
      "Epoch 89/100\n",
      "449/449 [==============================] - 235s 524ms/step - loss: 0.0053 - accuracy: 0.9971 - val_loss: 2.8260 - val_accuracy: 0.5823\n",
      "Epoch 90/100\n",
      "449/449 [==============================] - 235s 524ms/step - loss: 0.0052 - accuracy: 0.9974 - val_loss: 2.8658 - val_accuracy: 0.5798\n",
      "Epoch 91/100\n",
      "449/449 [==============================] - 235s 524ms/step - loss: 0.0051 - accuracy: 0.9975 - val_loss: 2.9035 - val_accuracy: 0.5829\n",
      "Epoch 92/100\n",
      "449/449 [==============================] - 235s 524ms/step - loss: 0.0052 - accuracy: 0.9973 - val_loss: 2.7945 - val_accuracy: 0.5871\n",
      "Epoch 93/100\n",
      "449/449 [==============================] - 235s 524ms/step - loss: 0.0050 - accuracy: 0.9974 - val_loss: 2.9627 - val_accuracy: 0.5823\n",
      "Epoch 94/100\n",
      "449/449 [==============================] - 235s 524ms/step - loss: 0.0052 - accuracy: 0.9973 - val_loss: 2.8847 - val_accuracy: 0.5829\n",
      "Epoch 95/100\n",
      "449/449 [==============================] - 235s 524ms/step - loss: 0.0050 - accuracy: 0.9973 - val_loss: 2.8760 - val_accuracy: 0.5809\n",
      "Epoch 96/100\n",
      "449/449 [==============================] - 235s 523ms/step - loss: 0.0050 - accuracy: 0.9973 - val_loss: 2.8442 - val_accuracy: 0.5874\n",
      "Epoch 97/100\n",
      "449/449 [==============================] - 235s 524ms/step - loss: 0.0049 - accuracy: 0.9974 - val_loss: 2.9402 - val_accuracy: 0.5807\n",
      "Epoch 98/100\n",
      "449/449 [==============================] - 236s 525ms/step - loss: 0.0049 - accuracy: 0.9975 - val_loss: 2.9077 - val_accuracy: 0.5854\n",
      "Epoch 99/100\n",
      "449/449 [==============================] - 235s 524ms/step - loss: 0.0050 - accuracy: 0.9973 - val_loss: 2.9259 - val_accuracy: 0.5857\n",
      "Epoch 100/100\n",
      "449/449 [==============================] - 235s 524ms/step - loss: 0.0050 - accuracy: 0.9976 - val_loss: 2.9194 - val_accuracy: 0.5804\n"
     ]
    }
   ],
   "source": [
    "history_vgg5 = model.fit(train_images, train_labels, epochs=100, batch_size=64,\n",
    "                    validation_data=(test_images, test_labels), verbose=1)\n"
   ]
  },
  {
   "cell_type": "code",
   "execution_count": 48,
   "metadata": {
    "ExecuteTime": {
     "end_time": "2021-10-04T12:10:42.089567Z",
     "start_time": "2021-10-04T12:10:41.760849Z"
    }
   },
   "outputs": [
    {
     "data": {
      "image/png": "[encoded data removed]",
      "text/plain": [
       "<Figure size 432x288 with 1 Axes>"
      ]
     },
     "metadata": {
      "needs_background": "light"
     },
     "output_type": "display_data"
    },
    {
     "data": {
      "image/png": "[encoded data removed]",
      "text/plain": [
       "<Figure size 432x288 with 1 Axes>"
      ]
     },
     "metadata": {
      "needs_background": "light"
     },
     "output_type": "display_data"
    }
   ],
   "source": [
    "acc = history_vgg5.history['accuracy']\n",
    "val_acc = history_vgg5.history['val_accuracy']\n",
    "loss = history_vgg5.history['loss']\n",
    "val_loss = history_vgg5.history['val_loss']\n",
    "epochs = range(len(acc))\n",
    "plt.plot(epochs, acc, 'bo', label='Training acc')\n",
    "plt.plot(epochs, val_acc, 'b', label='Validation acc')\n",
    "plt.title('Training and validation accuracy')\n",
    "plt.legend()\n",
    "plt.figure()\n",
    "plt.plot(epochs, loss, 'bo', label='Training loss')\n",
    "plt.plot(epochs, val_loss, 'b', label='Validation loss')\n",
    "plt.title('Training and validation loss')\n",
    "plt.legend()\n",
    "plt.show()"
   ]
  },
  {
   "cell_type": "code",
   "execution_count": 51,
   "metadata": {
    "ExecuteTime": {
     "end_time": "2021-10-04T12:38:32.885037Z",
     "start_time": "2021-10-04T12:38:32.665609Z"
    }
   },
   "outputs": [],
   "source": [
    "# Addressing Overfitting \n",
    "# Define VGG5_block_DROPOUT %20 cnn model\n",
    "model = Sequential()\n",
    "model.add(Conv2D(32, (3, 3), activation='relu', kernel_initializer='he_uniform', padding='same', input_shape=(48, 48, 3)))\n",
    "model.add(Conv2D(32, (3, 3), activation='relu', kernel_initializer='he_uniform', padding='same'))\n",
    "model.add(MaxPooling2D((2, 2)))\n",
    "model.add(Dropout(0.2))\n",
    "model.add(Conv2D(64, (3, 3), activation='relu', kernel_initializer='he_uniform', padding='same'))\n",
    "model.add(Conv2D(64, (3, 3), activation='relu', kernel_initializer='he_uniform', padding='same'))\n",
    "model.add(MaxPooling2D((2, 2)))\n",
    "model.add(Dropout(0.2))\n",
    "model.add(Conv2D(128, (3, 3), activation='relu', kernel_initializer='he_uniform', padding='same'))\n",
    "model.add(Conv2D(128, (3, 3), activation='relu', kernel_initializer='he_uniform', padding='same'))\n",
    "model.add(MaxPooling2D((2, 2)))\n",
    "model.add(Dropout(0.2))\n",
    "model.add(Conv2D(256, (3, 3), activation='relu', kernel_initializer='he_uniform', padding='same'))\n",
    "model.add(Conv2D(256, (3, 3), activation='relu', kernel_initializer='he_uniform', padding='same'))\n",
    "model.add(MaxPooling2D((2, 2)))\n",
    "model.add(Dropout(0.2))\n",
    "model.add(Conv2D(512, (3, 3), activation='relu', kernel_initializer='he_uniform', padding='same'))\n",
    "model.add(Conv2D(512, (3, 3), activation='relu', kernel_initializer='he_uniform', padding='same'))\n",
    "model.add(MaxPooling2D((2, 2)))\n",
    "model.add(Dropout(0.2))\n",
    "model.add(Flatten())\n",
    "model.add(Dense(128, activation='relu', kernel_initializer='he_uniform'))\n",
    "model.add(Dropout(0.2))\n",
    "model.add(Dense(7, activation='softmax'))\n",
    "# compile model\n",
    "model.compile(optimizer= 'SGD', loss='categorical_crossentropy', metrics=['accuracy'])"
   ]
  },
  {
   "cell_type": "code",
   "execution_count": null,
   "metadata": {
    "ExecuteTime": {
     "start_time": "2021-10-04T12:38:33.939Z"
    }
   },
   "outputs": [
    {
     "name": "stdout",
     "output_type": "stream",
     "text": [
      "Epoch 1/100\n",
      "449/449 [==============================] - 244s 542ms/step - loss: 1.8475 - accuracy: 0.2419 - val_loss: 1.8351 - val_accuracy: 0.2449\n",
      "Epoch 2/100\n",
      "449/449 [==============================] - 284s 633ms/step - loss: 1.8183 - accuracy: 0.2503 - val_loss: 1.8193 - val_accuracy: 0.2449\n",
      "Epoch 3/100\n",
      "449/449 [==============================] - 271s 604ms/step - loss: 1.8086 - accuracy: 0.2512 - val_loss: 1.8055 - val_accuracy: 0.2449\n",
      "Epoch 4/100\n",
      "449/449 [==============================] - 243s 542ms/step - loss: 1.7921 - accuracy: 0.2545 - val_loss: 1.7845 - val_accuracy: 0.2555\n",
      "Epoch 5/100\n",
      "449/449 [==============================] - 244s 542ms/step - loss: 1.7656 - accuracy: 0.2695 - val_loss: 1.7387 - val_accuracy: 0.2948\n",
      "Epoch 6/100\n",
      "449/449 [==============================] - 241s 536ms/step - loss: 1.7300 - accuracy: 0.2964 - val_loss: 1.6961 - val_accuracy: 0.3121\n",
      "Epoch 7/100\n",
      "449/449 [==============================] - 240s 535ms/step - loss: 1.7002 - accuracy: 0.3109 - val_loss: 1.6625 - val_accuracy: 0.3215\n",
      "Epoch 8/100\n",
      "449/449 [==============================] - 241s 537ms/step - loss: 1.6730 - accuracy: 0.3305 - val_loss: 1.6152 - val_accuracy: 0.3709\n",
      "Epoch 9/100\n",
      "449/449 [==============================] - 249s 555ms/step - loss: 1.6352 - accuracy: 0.3544 - val_loss: 1.5636 - val_accuracy: 0.3853\n",
      "Epoch 10/100\n",
      "449/449 [==============================] - 245s 546ms/step - loss: 1.6003 - accuracy: 0.3751 - val_loss: 1.5262 - val_accuracy: 0.4076\n",
      "Epoch 11/100\n",
      "449/449 [==============================] - 247s 551ms/step - loss: 1.5662 - accuracy: 0.3928 - val_loss: 1.5075 - val_accuracy: 0.4207\n",
      "Epoch 12/100\n",
      "449/449 [==============================] - 246s 548ms/step - loss: 1.5346 - accuracy: 0.4042 - val_loss: 1.4639 - val_accuracy: 0.4352\n",
      "Epoch 13/100\n",
      "449/449 [==============================] - 244s 544ms/step - loss: 1.5122 - accuracy: 0.4137 - val_loss: 1.4395 - val_accuracy: 0.4439\n",
      "Epoch 14/100\n",
      "449/449 [==============================] - 242s 540ms/step - loss: 1.4814 - accuracy: 0.4234 - val_loss: 1.4094 - val_accuracy: 0.4589\n",
      "Epoch 15/100\n",
      "449/449 [==============================] - 243s 541ms/step - loss: 1.4576 - accuracy: 0.4354 - val_loss: 1.3974 - val_accuracy: 0.4639\n",
      "Epoch 16/100\n",
      "449/449 [==============================] - 243s 542ms/step - loss: 1.4412 - accuracy: 0.4421 - val_loss: 1.3631 - val_accuracy: 0.4778\n",
      "Epoch 17/100\n",
      "449/449 [==============================] - 243s 542ms/step - loss: 1.4187 - accuracy: 0.4519 - val_loss: 1.3567 - val_accuracy: 0.4843\n",
      "Epoch 18/100\n",
      "449/449 [==============================] - 244s 543ms/step - loss: 1.3998 - accuracy: 0.4581 - val_loss: 1.3537 - val_accuracy: 0.4857\n",
      "Epoch 19/100\n",
      "449/449 [==============================] - 241s 537ms/step - loss: 1.3788 - accuracy: 0.4716 - val_loss: 1.3257 - val_accuracy: 0.4923\n",
      "Epoch 20/100\n",
      "449/449 [==============================] - 240s 535ms/step - loss: 1.3620 - accuracy: 0.4762 - val_loss: 1.3205 - val_accuracy: 0.4854\n",
      "Epoch 21/100\n",
      "449/449 [==============================] - 240s 534ms/step - loss: 1.3402 - accuracy: 0.4844 - val_loss: 1.2967 - val_accuracy: 0.4968\n",
      "Epoch 22/100\n",
      "449/449 [==============================] - 240s 534ms/step - loss: 1.3204 - accuracy: 0.4927 - val_loss: 1.2579 - val_accuracy: 0.5110\n",
      "Epoch 23/100\n",
      "449/449 [==============================] - 240s 534ms/step - loss: 1.3050 - accuracy: 0.5005 - val_loss: 1.2575 - val_accuracy: 0.5174\n",
      "Epoch 24/100\n",
      "449/449 [==============================] - 240s 534ms/step - loss: 1.2874 - accuracy: 0.5059 - val_loss: 1.2552 - val_accuracy: 0.5205\n",
      "Epoch 25/100\n",
      "449/449 [==============================] - 240s 535ms/step - loss: 1.2759 - accuracy: 0.5129 - val_loss: 1.2211 - val_accuracy: 0.5283\n",
      "Epoch 26/100\n",
      "449/449 [==============================] - 240s 534ms/step - loss: 1.2619 - accuracy: 0.5187 - val_loss: 1.2625 - val_accuracy: 0.5171\n",
      "Epoch 27/100\n",
      "449/449 [==============================] - 240s 534ms/step - loss: 1.2451 - accuracy: 0.5239 - val_loss: 1.1956 - val_accuracy: 0.5366\n",
      "Epoch 28/100\n",
      "449/449 [==============================] - 240s 533ms/step - loss: 1.2377 - accuracy: 0.5278 - val_loss: 1.1915 - val_accuracy: 0.5481\n",
      "Epoch 29/100\n",
      "449/449 [==============================] - 240s 535ms/step - loss: 1.2233 - accuracy: 0.5317 - val_loss: 1.1928 - val_accuracy: 0.5417\n",
      "Epoch 30/100\n",
      "449/449 [==============================] - 240s 534ms/step - loss: 1.2104 - accuracy: 0.5414 - val_loss: 1.1762 - val_accuracy: 0.5497\n",
      "Epoch 31/100\n",
      "449/449 [==============================] - 240s 534ms/step - loss: 1.1983 - accuracy: 0.5456 - val_loss: 1.1683 - val_accuracy: 0.5478\n",
      "Epoch 32/100\n",
      "449/449 [==============================] - 240s 534ms/step - loss: 1.1880 - accuracy: 0.5444 - val_loss: 1.1978 - val_accuracy: 0.5397\n",
      "Epoch 33/100\n",
      "449/449 [==============================] - 240s 534ms/step - loss: 1.1747 - accuracy: 0.5520 - val_loss: 1.1432 - val_accuracy: 0.5508\n",
      "Epoch 34/100\n",
      "449/449 [==============================] - 240s 534ms/step - loss: 1.1666 - accuracy: 0.5535 - val_loss: 1.1287 - val_accuracy: 0.5642\n",
      "Epoch 35/100\n",
      "449/449 [==============================] - 258s 575ms/step - loss: 1.1604 - accuracy: 0.5564 - val_loss: 1.1528 - val_accuracy: 0.5536\n",
      "Epoch 36/100\n",
      "405/449 [==========================>...] - ETA: 29s - loss: 1.1453 - accuracy: 0.5650"
     ]
    }
   ],
   "source": [
    "history_vgg5_dout1 = model.fit(train_images, train_labels, epochs=100, batch_size=64,\n",
    "                    validation_data=(test_images, test_labels), verbose=1)"
   ]
  },
  {
   "cell_type": "code",
   "execution_count": null,
   "metadata": {},
   "outputs": [],
   "source": []
  }
 ],
 "metadata": {
  "kernelspec": {
   "display_name": "learn-env",
   "language": "python",
   "name": "learn-env"
  },
  "language_info": {
   "codemirror_mode": {
    "name": "ipython",
    "version": 3
   },
   "file_extension": ".py",
   "mimetype": "text/x-python",
   "name": "python",
   "nbconvert_exporter": "python",
   "pygments_lexer": "ipython3",
   "version": "3.8.5"
  },
  "toc": {
   "base_numbering": 1,
   "nav_menu": {},
   "number_sections": true,
   "sideBar": true,
   "skip_h1_title": false,
   "title_cell": "Table of Contents",
   "title_sidebar": "Contents",
   "toc_cell": false,
   "toc_position": {},
   "toc_section_display": true,
   "toc_window_display": false
  },
  "varInspector": {
   "cols": {
    "lenName": 16,
    "lenType": 16,
    "lenVar": 40
   },
   "kernels_config": {
    "python": {
     "delete_cmd_postfix": "",
     "delete_cmd_prefix": "del ",
     "library": "var_list.py",
     "varRefreshCmd": "print(var_dic_list())"
    },
    "r": {
     "delete_cmd_postfix": ") ",
     "delete_cmd_prefix": "rm(",
     "library": "var_list.r",
     "varRefreshCmd": "cat(var_dic_list()) "
    }
   },
   "types_to_exclude": [
    "module",
    "function",
    "builtin_function_or_method",
    "instance",
    "_Feature"
   ],
   "window_display": false
  }
 },
 "nbformat": 4,
 "nbformat_minor": 4
}
