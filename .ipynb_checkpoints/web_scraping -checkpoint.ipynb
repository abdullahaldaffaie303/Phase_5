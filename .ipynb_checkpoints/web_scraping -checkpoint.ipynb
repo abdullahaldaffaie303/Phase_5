{
 "cells": [
  {
   "cell_type": "code",
   "execution_count": 1,
   "metadata": {
    "ExecuteTime": {
     "end_time": "2021-10-18T11:13:18.837501Z",
     "start_time": "2021-10-18T11:13:18.713123Z"
    }
   },
   "outputs": [],
   "source": [
    "import os\n",
    "import time\n",
    "\n",
    "from selenium import webdriver\n",
    "\n",
    "import urllib.request"
   ]
  },
  {
   "cell_type": "code",
   "execution_count": 3,
   "metadata": {
    "ExecuteTime": {
     "end_time": "2021-10-18T11:25:22.740555Z",
     "start_time": "2021-10-18T11:24:56.606366Z"
    }
   },
   "outputs": [
    {
     "name": "stderr",
     "output_type": "stream",
     "text": [
      "<ipython-input-3-ba79b6f1726b>:9: DeprecationWarning: executable_path has been deprecated, please pass in a Service object\n",
      "  driver = webdriver.Chrome(executable_path=DRIVER_PATH)\n",
      "<ipython-input-3-ba79b6f1726b>:30: DeprecationWarning: find_elements_by_* commands are deprecated. Please use find_elements() instead\n",
      "  element = driver.find_elements_by_class_name('mye4qd') #returns list\n"
     ]
    },
    {
     "name": "stdout",
     "output_type": "stream",
     "text": [
      "Reached the end of page\n"
     ]
    }
   ],
   "source": [
    "#Selenium code to scroll to bottom of the page\n",
    "\n",
    "# search_query = \"jindo+dog\"\n",
    "search_query = \"angry expression\"\n",
    "\n",
    "link = \"https://www.google.com/search?q={}&tbm=isch\".format(search_query)\n",
    "DRIVER_PATH = '/Users/abdullahaldaffaie/Downloads/chromedriver'\n",
    "\n",
    "driver = webdriver.Chrome(executable_path=DRIVER_PATH)\n",
    "driver.get(link)\n",
    "\n",
    "SCROLL_PAUSE_TIME = 2\n",
    "\n",
    "# Get scroll height\n",
    "last_height = driver.execute_script(\"return document.body.scrollHeight\")\n",
    "\n",
    "while True:\n",
    "    # Scroll down to bottom\n",
    "    driver.execute_script(\"window.scrollTo(0, document.body.scrollHeight);\")\n",
    "\n",
    "    # Wait to load page\n",
    "    time.sleep(SCROLL_PAUSE_TIME)\n",
    "\n",
    "    # Calculate new scroll height and compare with last scroll height\n",
    "    new_height = driver.execute_script(\"return document.body.scrollHeight\")\n",
    "    \n",
    "    if new_height == last_height:\n",
    "    #break #insert press load more\n",
    "        try:\n",
    "            element = driver.find_elements_by_class_name('mye4qd') #returns list\n",
    "            element[0].click()\n",
    "        except:\n",
    "            break\n",
    "    last_height = new_height\n",
    "    \n",
    "print(\"Reached the end of page\")"
   ]
  },
  {
   "cell_type": "code",
   "execution_count": 4,
   "metadata": {
    "ExecuteTime": {
     "end_time": "2021-10-18T11:26:23.748280Z",
     "start_time": "2021-10-18T11:26:23.744249Z"
    }
   },
   "outputs": [],
   "source": [
    "def null_count(l):\n",
    "    #given a list l, find the number of null\n",
    "    null_count = 0\n",
    "    \n",
    "    for element in l:\n",
    "        if element == None:\n",
    "            null_count += 1\n",
    "            \n",
    "    return null_count"
   ]
  },
  {
   "cell_type": "code",
   "execution_count": 5,
   "metadata": {
    "ExecuteTime": {
     "end_time": "2021-10-18T11:26:36.242746Z",
     "start_time": "2021-10-18T11:26:36.166879Z"
    }
   },
   "outputs": [
    {
     "name": "stderr",
     "output_type": "stream",
     "text": [
      "<ipython-input-5-a14bd7a903a2>:2: DeprecationWarning: find_elements_by_* commands are deprecated. Please use find_elements() instead\n",
      "  image_links = driver.find_elements_by_class_name('rg_i.Q4LuWd')\n"
     ]
    },
    {
     "data": {
      "text/plain": [
       "711"
      ]
     },
     "execution_count": 5,
     "metadata": {},
     "output_type": "execute_result"
    }
   ],
   "source": [
    "#return a list clickable objects for each individual image\n",
    "image_links = driver.find_elements_by_class_name('rg_i.Q4LuWd')\n",
    "total = len(image_links)\n",
    "total"
   ]
  },
  {
   "cell_type": "code",
   "execution_count": 6,
   "metadata": {
    "ExecuteTime": {
     "end_time": "2021-10-18T11:27:13.891780Z",
     "start_time": "2021-10-18T11:27:04.012513Z"
    }
   },
   "outputs": [],
   "source": [
    "#use the list of object to search for 'data-src' and 'src' anchors\n",
    "data_src_links = [image_links[i].get_attribute('data-src') for i in range(total)]\n",
    "src_links = [image_links[i].get_attribute('src') for i in range(total)]"
   ]
  },
  {
   "cell_type": "code",
   "execution_count": 7,
   "metadata": {
    "ExecuteTime": {
     "end_time": "2021-10-18T11:27:31.859957Z",
     "start_time": "2021-10-18T11:27:31.854841Z"
    }
   },
   "outputs": [
    {
     "data": {
      "text/plain": [
       "472"
      ]
     },
     "execution_count": 7,
     "metadata": {},
     "output_type": "execute_result"
    }
   ],
   "source": [
    "data_src_null_count = null_count(data_src_links)\n",
    "data_src_null_count"
   ]
  },
  {
   "cell_type": "code",
   "execution_count": 8,
   "metadata": {
    "ExecuteTime": {
     "end_time": "2021-10-18T11:27:52.197524Z",
     "start_time": "2021-10-18T11:27:52.192825Z"
    }
   },
   "outputs": [
    {
     "data": {
      "text/plain": [
       "239"
      ]
     },
     "execution_count": 8,
     "metadata": {},
     "output_type": "execute_result"
    }
   ],
   "source": [
    "src_null_count = null_count(src_links)\n",
    "src_null_count"
   ]
  },
  {
   "cell_type": "code",
   "execution_count": 9,
   "metadata": {
    "ExecuteTime": {
     "end_time": "2021-10-18T11:29:41.029488Z",
     "start_time": "2021-10-18T11:29:41.025248Z"
    }
   },
   "outputs": [],
   "source": [
    "for i,element in enumerate(data_src_links):\n",
    "    if element == None:\n",
    "        data_src_links[i] = src_links[i]"
   ]
  },
  {
   "cell_type": "code",
   "execution_count": 10,
   "metadata": {
    "ExecuteTime": {
     "end_time": "2021-10-18T11:29:54.873673Z",
     "start_time": "2021-10-18T11:29:54.867386Z"
    }
   },
   "outputs": [
    {
     "data": {
      "text/plain": [
       "'Nulls: 0, Length: 711'"
      ]
     },
     "execution_count": 10,
     "metadata": {},
     "output_type": "execute_result"
    }
   ],
   "source": [
    "\"Nulls: {}, Length: {}\".format(null_count(data_src_links), len(data_src_links))"
   ]
  },
  {
   "cell_type": "code",
   "execution_count": 11,
   "metadata": {
    "ExecuteTime": {
     "end_time": "2021-10-18T11:30:38.141491Z",
     "start_time": "2021-10-18T11:30:38.009955Z"
    }
   },
   "outputs": [
    {
     "name": "stdout",
     "output_type": "stream",
     "text": [
      "/Users/abdullahaldaffaie/Documents/Flatiron_Curriculum /Flatiron_Projects/Phase_5\r\n"
     ]
    }
   ],
   "source": [
    "!pwd"
   ]
  },
  {
   "cell_type": "code",
   "execution_count": 12,
   "metadata": {
    "ExecuteTime": {
     "end_time": "2021-10-18T11:38:37.571687Z",
     "start_time": "2021-10-18T11:38:37.310016Z"
    }
   },
   "outputs": [],
   "source": [
    "!mkdir images\n",
    "!mkdir images/0"
   ]
  },
  {
   "cell_type": "code",
   "execution_count": 21,
   "metadata": {
    "ExecuteTime": {
     "end_time": "2021-10-18T11:44:53.275332Z",
     "start_time": "2021-10-18T11:44:53.148440Z"
    }
   },
   "outputs": [
    {
     "name": "stdout",
     "output_type": "stream",
     "text": [
      "/Users/abdullahaldaffaie/Documents/Flatiron_Curriculum /Flatiron_Projects\r\n"
     ]
    }
   ],
   "source": [
    "!pwd"
   ]
  },
  {
   "cell_type": "code",
   "execution_count": null,
   "metadata": {},
   "outputs": [],
   "source": []
  },
  {
   "cell_type": "code",
   "execution_count": null,
   "metadata": {},
   "outputs": [],
   "source": []
  }
 ],
 "metadata": {
  "kernelspec": {
   "display_name": "learn-env",
   "language": "python",
   "name": "learn-env"
  },
  "language_info": {
   "codemirror_mode": {
    "name": "ipython",
    "version": 3
   },
   "file_extension": ".py",
   "mimetype": "text/x-python",
   "name": "python",
   "nbconvert_exporter": "python",
   "pygments_lexer": "ipython3",
   "version": "3.8.5"
  },
  "toc": {
   "base_numbering": 1,
   "nav_menu": {},
   "number_sections": true,
   "sideBar": true,
   "skip_h1_title": false,
   "title_cell": "Table of Contents",
   "title_sidebar": "Contents",
   "toc_cell": false,
   "toc_position": {},
   "toc_section_display": true,
   "toc_window_display": false
  },
  "varInspector": {
   "cols": {
    "lenName": 16,
    "lenType": 16,
    "lenVar": 40
   },
   "kernels_config": {
    "python": {
     "delete_cmd_postfix": "",
     "delete_cmd_prefix": "del ",
     "library": "var_list.py",
     "varRefreshCmd": "print(var_dic_list())"
    },
    "r": {
     "delete_cmd_postfix": ") ",
     "delete_cmd_prefix": "rm(",
     "library": "var_list.r",
     "varRefreshCmd": "cat(var_dic_list()) "
    }
   },
   "types_to_exclude": [
    "module",
    "function",
    "builtin_function_or_method",
    "instance",
    "_Feature"
   ],
   "window_display": false
  }
 },
 "nbformat": 4,
 "nbformat_minor": 4
}
