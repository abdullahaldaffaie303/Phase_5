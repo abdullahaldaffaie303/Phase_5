{
 "cells": [
  {
   "cell_type": "code",
   "execution_count": 26,
   "metadata": {
    "ExecuteTime": {
     "end_time": "2021-10-18T12:38:16.792289Z",
     "start_time": "2021-10-18T12:38:16.788947Z"
    }
   },
   "outputs": [],
   "source": [
    "import os\n",
    "import time\n",
    "\n",
    "from selenium import webdriver\n",
    "\n",
    "import urllib.request"
   ]
  },
  {
   "cell_type": "code",
   "execution_count": 83,
   "metadata": {
    "ExecuteTime": {
     "end_time": "2021-10-18T13:51:05.955941Z",
     "start_time": "2021-10-18T13:50:39.520758Z"
    }
   },
   "outputs": [
    {
     "name": "stderr",
     "output_type": "stream",
     "text": [
      "<ipython-input-83-5afce488b39c>:9: DeprecationWarning: executable_path has been deprecated, please pass in a Service object\n",
      "  driver = webdriver.Chrome(executable_path=DRIVER_PATH)\n",
      "<ipython-input-83-5afce488b39c>:30: DeprecationWarning: find_elements_by_* commands are deprecated. Please use find_elements() instead\n",
      "  element = driver.find_elements_by_class_name('mye4qd') #returns list\n"
     ]
    },
    {
     "name": "stdout",
     "output_type": "stream",
     "text": [
      "Reached the end of page\n"
     ]
    }
   ],
   "source": [
    "#Selenium code to scroll to bottom of the page\n",
    "\n",
    "# search_query = \"jindo+dog\"\n",
    "search_query = \"neutral expression\"\n",
    "\n",
    "link = \"https://www.google.com/search?q={}&tbm=isch\".format(search_query)\n",
    "DRIVER_PATH = '/Users/abdullahaldaffaie/Documents/Flatiron_Curriculum /Flatiron_Projects/Phase_5/chromedriver'\n",
    "\n",
    "driver = webdriver.Chrome(executable_path=DRIVER_PATH)\n",
    "driver.get(link)\n",
    "\n",
    "SCROLL_PAUSE_TIME = 2\n",
    "\n",
    "# Get scroll height\n",
    "last_height = driver.execute_script(\"return document.body.scrollHeight\")\n",
    "\n",
    "while True:\n",
    "    # Scroll down to bottom\n",
    "    driver.execute_script(\"window.scrollTo(0, document.body.scrollHeight);\")\n",
    "\n",
    "    # Wait to load page\n",
    "    time.sleep(SCROLL_PAUSE_TIME)\n",
    "\n",
    "    # Calculate new scroll height and compare with last scroll height\n",
    "    new_height = driver.execute_script(\"return document.body.scrollHeight\")\n",
    "    \n",
    "    if new_height == last_height:\n",
    "    #break #insert press load more\n",
    "        try:\n",
    "            element = driver.find_elements_by_class_name('mye4qd') #returns list\n",
    "            element[0].click()\n",
    "        except:\n",
    "            break\n",
    "    last_height = new_height\n",
    "    \n",
    "print(\"Reached the end of page\")"
   ]
  },
  {
   "cell_type": "code",
   "execution_count": 84,
   "metadata": {
    "ExecuteTime": {
     "end_time": "2021-10-18T13:51:15.526214Z",
     "start_time": "2021-10-18T13:51:15.521925Z"
    }
   },
   "outputs": [],
   "source": [
    "def null_count(l):\n",
    "    #given a list l, find the number of null\n",
    "    null_count = 0\n",
    "    \n",
    "    for element in l:\n",
    "        if element == None:\n",
    "            null_count += 1\n",
    "            \n",
    "    return null_count"
   ]
  },
  {
   "cell_type": "code",
   "execution_count": 85,
   "metadata": {
    "ExecuteTime": {
     "end_time": "2021-10-18T13:51:16.312444Z",
     "start_time": "2021-10-18T13:51:16.174966Z"
    }
   },
   "outputs": [
    {
     "name": "stderr",
     "output_type": "stream",
     "text": [
      "<ipython-input-85-a14bd7a903a2>:2: DeprecationWarning: find_elements_by_* commands are deprecated. Please use find_elements() instead\n",
      "  image_links = driver.find_elements_by_class_name('rg_i.Q4LuWd')\n"
     ]
    },
    {
     "data": {
      "text/plain": [
       "767"
      ]
     },
     "execution_count": 85,
     "metadata": {},
     "output_type": "execute_result"
    }
   ],
   "source": [
    "#return a list clickable objects for each individual image\n",
    "image_links = driver.find_elements_by_class_name('rg_i.Q4LuWd')\n",
    "total = len(image_links)\n",
    "total"
   ]
  },
  {
   "cell_type": "code",
   "execution_count": 86,
   "metadata": {
    "ExecuteTime": {
     "end_time": "2021-10-18T13:51:27.773889Z",
     "start_time": "2021-10-18T13:51:17.073625Z"
    }
   },
   "outputs": [],
   "source": [
    "#use the list of object to search for 'data-src' and 'src' anchors\n",
    "data_src_links = [image_links[i].get_attribute('data-src') for i in range(total)]\n",
    "src_links = [image_links[i].get_attribute('src') for i in range(total)]"
   ]
  },
  {
   "cell_type": "code",
   "execution_count": 87,
   "metadata": {
    "ExecuteTime": {
     "end_time": "2021-10-18T13:51:27.793862Z",
     "start_time": "2021-10-18T13:51:27.790449Z"
    }
   },
   "outputs": [
    {
     "data": {
      "text/plain": [
       "537"
      ]
     },
     "execution_count": 87,
     "metadata": {},
     "output_type": "execute_result"
    }
   ],
   "source": [
    "data_src_null_count = null_count(data_src_links)\n",
    "data_src_null_count"
   ]
  },
  {
   "cell_type": "code",
   "execution_count": 88,
   "metadata": {
    "ExecuteTime": {
     "end_time": "2021-10-18T13:51:27.812962Z",
     "start_time": "2021-10-18T13:51:27.809660Z"
    }
   },
   "outputs": [
    {
     "data": {
      "text/plain": [
       "230"
      ]
     },
     "execution_count": 88,
     "metadata": {},
     "output_type": "execute_result"
    }
   ],
   "source": [
    "src_null_count = null_count(src_links)\n",
    "src_null_count"
   ]
  },
  {
   "cell_type": "code",
   "execution_count": 89,
   "metadata": {
    "ExecuteTime": {
     "end_time": "2021-10-18T13:51:27.837182Z",
     "start_time": "2021-10-18T13:51:27.833621Z"
    }
   },
   "outputs": [],
   "source": [
    "for i,element in enumerate(data_src_links):\n",
    "    if element == None:\n",
    "        data_src_links[i] = src_links[i]"
   ]
  },
  {
   "cell_type": "code",
   "execution_count": 90,
   "metadata": {
    "ExecuteTime": {
     "end_time": "2021-10-18T13:51:27.863331Z",
     "start_time": "2021-10-18T13:51:27.858275Z"
    }
   },
   "outputs": [
    {
     "data": {
      "text/plain": [
       "'Nulls: 0, Length: 767'"
      ]
     },
     "execution_count": 90,
     "metadata": {},
     "output_type": "execute_result"
    }
   ],
   "source": [
    "\"Nulls: {}, Length: {}\".format(null_count(data_src_links), len(data_src_links))"
   ]
  },
  {
   "cell_type": "code",
   "execution_count": 91,
   "metadata": {
    "ExecuteTime": {
     "end_time": "2021-10-18T13:51:35.309745Z",
     "start_time": "2021-10-18T13:51:35.305783Z"
    }
   },
   "outputs": [],
   "source": [
    "os. chdir('/Users/abdullahaldaffaie/Documents/Flatiron_Curriculum /Flatiron_Projects/Phase_5/images/6')"
   ]
  },
  {
   "cell_type": "code",
   "execution_count": 92,
   "metadata": {
    "ExecuteTime": {
     "end_time": "2021-10-18T13:51:36.436855Z",
     "start_time": "2021-10-18T13:51:36.310540Z"
    }
   },
   "outputs": [
    {
     "name": "stdout",
     "output_type": "stream",
     "text": [
      "/Users/abdullahaldaffaie/Documents/Flatiron_Curriculum /Flatiron_Projects/Phase_5/images/6\r\n"
     ]
    }
   ],
   "source": [
    "!pwd"
   ]
  },
  {
   "cell_type": "code",
   "execution_count": 93,
   "metadata": {
    "ExecuteTime": {
     "end_time": "2021-10-18T14:05:56.206708Z",
     "start_time": "2021-10-18T13:51:38.583334Z"
    }
   },
   "outputs": [],
   "source": [
    "for i,link in enumerate(data_src_links):\n",
    "    \n",
    "\n",
    "    name = 'neutral{}.png'.format(i)\n",
    "    \n",
    "    urllib.request.urlretrieve(link, name)\n",
    "    time.sleep(1)"
   ]
  },
  {
   "cell_type": "code",
   "execution_count": 120,
   "metadata": {
    "ExecuteTime": {
     "end_time": "2021-10-18T20:44:24.425200Z",
     "start_time": "2021-10-18T20:44:23.699174Z"
    }
   },
   "outputs": [],
   "source": [
    "import keras\n",
    "from keras.preprocessing.image import ImageDataGenerator\n",
    "from keras.models import load_model\n",
    "import matplotlib.pyplot as plt\n",
    "import seaborn as sns\n",
    "from sklearn.metrics import confusion_matrix\n",
    "\n"
   ]
  },
  {
   "cell_type": "code",
   "execution_count": 95,
   "metadata": {
    "ExecuteTime": {
     "end_time": "2021-10-18T20:17:42.399538Z",
     "start_time": "2021-10-18T20:17:42.396412Z"
    }
   },
   "outputs": [],
   "source": [
    "data = '/Users/abdullahaldaffaie/Documents/Flatiron_Curriculum /Flatiron_Projects/Phase_5/images'\n"
   ]
  },
  {
   "cell_type": "code",
   "execution_count": 96,
   "metadata": {
    "ExecuteTime": {
     "end_time": "2021-10-18T20:18:39.065421Z",
     "start_time": "2021-10-18T20:18:38.932329Z"
    }
   },
   "outputs": [
    {
     "name": "stdout",
     "output_type": "stream",
     "text": [
      "Found 4035 images belonging to 7 classes.\n"
     ]
    }
   ],
   "source": [
    "data_generator = ImageDataGenerator(rescale=1./255).flow_from_directory(\n",
    "    data,\n",
    "    target_size= (48,48),\n",
    "    batch_size= 4043,\n",
    "    class_mode= 'categorical')"
   ]
  },
  {
   "cell_type": "code",
   "execution_count": 97,
   "metadata": {
    "ExecuteTime": {
     "end_time": "2021-10-18T20:19:17.820498Z",
     "start_time": "2021-10-18T20:19:11.539989Z"
    }
   },
   "outputs": [],
   "source": [
    "data_images, data_labels = next(data_generator)"
   ]
  },
  {
   "cell_type": "code",
   "execution_count": 102,
   "metadata": {
    "ExecuteTime": {
     "end_time": "2021-10-18T20:34:50.861110Z",
     "start_time": "2021-10-18T20:34:50.400166Z"
    }
   },
   "outputs": [],
   "source": [
    "my_model = load_model('/Users/abdullahaldaffaie/Documents/Flatiron_Curriculum /Flatiron_Projects/Phase_5/final_model.h5')\n",
    "my_model.load_weights('/Users/abdullahaldaffaie/Documents/Flatiron_Curriculum /Flatiron_Projects/Phase_5/final_model_weights.h5')"
   ]
  },
  {
   "cell_type": "code",
   "execution_count": 104,
   "metadata": {
    "ExecuteTime": {
     "end_time": "2021-10-18T20:35:57.997790Z",
     "start_time": "2021-10-18T20:35:51.626044Z"
    }
   },
   "outputs": [],
   "source": [
    "results = my_model.predict_classes(data_images)"
   ]
  },
  {
   "cell_type": "code",
   "execution_count": 131,
   "metadata": {
    "ExecuteTime": {
     "end_time": "2021-10-18T20:49:09.966792Z",
     "start_time": "2021-10-18T20:49:09.962802Z"
    }
   },
   "outputs": [
    {
     "name": "stdout",
     "output_type": "stream",
     "text": [
      "4\n"
     ]
    }
   ],
   "source": [
    "print(results[30])"
   ]
  },
  {
   "cell_type": "code",
   "execution_count": 132,
   "metadata": {
    "ExecuteTime": {
     "end_time": "2021-10-18T20:49:10.970395Z",
     "start_time": "2021-10-18T20:49:10.858450Z"
    }
   },
   "outputs": [
    {
     "data": {
      "text/plain": [
       "<matplotlib.image.AxesImage at 0x7fdf276865e0>"
      ]
     },
     "metadata": {},
     "output_type": "display_data"
    },
    {
     "data": {
      "image/png": "[encoded data removed]",
      "text/plain": [
       "<Figure size 432x288 with 1 Axes>"
      ]
     },
     "metadata": {
      "needs_background": "light"
     },
     "output_type": "display_data"
    }
   ],
   "source": [
    "result_image = data_images[30]\n",
    "display(plt.imshow(result_image))"
   ]
  },
  {
   "cell_type": "code",
   "execution_count": 135,
   "metadata": {
    "ExecuteTime": {
     "end_time": "2021-10-18T20:53:32.039427Z",
     "start_time": "2021-10-18T20:53:25.648455Z"
    }
   },
   "outputs": [
    {
     "name": "stdout",
     "output_type": "stream",
     "text": [
      "[3.084678888320923, 0.15514250099658966]\n"
     ]
    }
   ],
   "source": [
    "acc = my_model.evaluate(data_images, data_labels, verbose=0)\n",
    "print(acc)"
   ]
  }
 ],
 "metadata": {
  "kernelspec": {
   "display_name": "learn-env",
   "language": "python",
   "name": "learn-env"
  },
  "language_info": {
   "codemirror_mode": {
    "name": "ipython",
    "version": 3
   },
   "file_extension": ".py",
   "mimetype": "text/x-python",
   "name": "python",
   "nbconvert_exporter": "python",
   "pygments_lexer": "ipython3",
   "version": "3.8.5"
  },
  "toc": {
   "base_numbering": 1,
   "nav_menu": {},
   "number_sections": true,
   "sideBar": true,
   "skip_h1_title": false,
   "title_cell": "Table of Contents",
   "title_sidebar": "Contents",
   "toc_cell": false,
   "toc_position": {},
   "toc_section_display": true,
   "toc_window_display": false
  },
  "varInspector": {
   "cols": {
    "lenName": 16,
    "lenType": 16,
    "lenVar": 40
   },
   "kernels_config": {
    "python": {
     "delete_cmd_postfix": "",
     "delete_cmd_prefix": "del ",
     "library": "var_list.py",
     "varRefreshCmd": "print(var_dic_list())"
    },
    "r": {
     "delete_cmd_postfix": ") ",
     "delete_cmd_prefix": "rm(",
     "library": "var_list.r",
     "varRefreshCmd": "cat(var_dic_list()) "
    }
   },
   "types_to_exclude": [
    "module",
    "function",
    "builtin_function_or_method",
    "instance",
    "_Feature"
   ],
   "window_display": false
  }
 },
 "nbformat": 4,
 "nbformat_minor": 4
}
